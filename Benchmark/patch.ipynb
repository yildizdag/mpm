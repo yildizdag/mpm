{
 "cells": [
  {
   "cell_type": "code",
   "execution_count": 1,
   "metadata": {
    "collapsed": true
   },
   "outputs": [],
   "source": [
    "import numpy as np\n",
    "import os.path"
   ]
  },
  {
   "cell_type": "code",
   "execution_count": 41,
   "metadata": {
    "collapsed": false
   },
   "outputs": [],
   "source": [
    "class patchFamily2D:\n",
    "    def __init__(self,file_ID):\n",
    "        #\n",
    "        self.U = []\n",
    "        self.V = []\n",
    "        self.CP = []\n",
    "        self.p = []\n",
    "        self.N = []\n",
    "        #\n",
    "        self.nel = []\n",
    "        self.nnp = []\n",
    "        self.nen = []\n",
    "        self.INC = []\n",
    "        self.IEN = []\n",
    "        #\n",
    "        file_exists = os.path.exists(file_ID+'1')\n",
    "        fNo = 1\n",
    "        while (file_exists == True):\n",
    "            f = open(file_ID+str(fNo), \"r\")\n",
    "            data = f.readlines()\n",
    "            # Knot Vector - V\n",
    "            lenV = int(data[0])\n",
    "            V_p = np.zeros(lenV)\n",
    "            dataV = data[1].split(\" \")\n",
    "            for i in range(0,lenV):\n",
    "                V_p[i] = float(dataV[i])\n",
    "            self.V.append(V_p)\n",
    "            # Knot Vector - U\n",
    "            lenU = int(data[2])\n",
    "            U_p = np.zeros(lenU)\n",
    "            dataU = data[3].split(\" \")\n",
    "            for i in range(0,lenU):\n",
    "                U_p[i] = float(dataU[i])\n",
    "            self.U.append(U_p)\n",
    "            # Control Points:\n",
    "            lenCP = int(data[4])\n",
    "            CP_p = np.zeros((lenCP,4))\n",
    "            for i in range(0,lenCP):\n",
    "                dataCP = data[i+5].split(\" \")\n",
    "                for j in range(0,4):\n",
    "                    CP_p[i][j] = float(dataCP[j])\n",
    "            self.CP.append(CP_p)\n",
    "            #\n",
    "            p1 = 0\n",
    "            p2 = 0\n",
    "            while True:\n",
    "                if (U_p[p1] == U_p[p1+1]):\n",
    "                    p1 += 1\n",
    "                else:\n",
    "                    break\n",
    "            while True:\n",
    "                if (V_p[p2] == V_p[p2+1]):\n",
    "                    p2 += 1\n",
    "                else:\n",
    "                    break  \n",
    "            self.p.append(np.array([p1,p2]))\n",
    "            n = len(U_p)-p1-1\n",
    "            m = len(V_p)-p2-1\n",
    "            self.N.append(np.array([n,m]))\n",
    "            #\n",
    "            nel = (n-p1)*(m-p2)\n",
    "            self.nel.append(nel)\n",
    "            nnp = n*m\n",
    "            self.nnp.append(nnp)\n",
    "            nen = (p1+1)*(p2+1)\n",
    "            self.nen.append(nen)\n",
    "            #\n",
    "            INC = np.zeros((n*m,2))\n",
    "            IEN = np.zeros((nel,nen))\n",
    "            A = 0\n",
    "            B = 0\n",
    "            for j in range(1,m+1):\n",
    "                for i in range(1,n+1):\n",
    "                    INC[A][0] = i-1\n",
    "                    INC[A][1] = j-1\n",
    "                    if (i >= p1+1 and j >= p2+1):\n",
    "                        for k in range(0,p2+1):\n",
    "                            for l in range(0,p1+1):\n",
    "                                C = int(k*(p1+1)+l)\n",
    "                                IEN[B][C] = int((A-k*n-l))\n",
    "                        B += 1\n",
    "                    A += 1\n",
    "            self.INC.append(INC)\n",
    "            self.IEN.append(IEN)\n",
    "            #\n",
    "            fNo = fNo + 1\n",
    "            file_exists = os.path.exists(file_ID+str(fNo))"
   ]
  },
  {
   "cell_type": "code",
   "execution_count": 42,
   "metadata": {
    "collapsed": false
   },
   "outputs": [],
   "source": [
    "pf = patchFamily2D('igabem_DR05_4th_768_')"
   ]
  },
  {
   "cell_type": "code",
   "execution_count": 51,
   "metadata": {
    "collapsed": false
   },
   "outputs": [
    {
     "data": {
      "text/plain": [
       "array([27., 51.])"
      ]
     },
     "execution_count": 51,
     "metadata": {},
     "output_type": "execute_result"
    }
   ],
   "source": [
    "pf.INC[0][-1]"
   ]
  },
  {
   "cell_type": "code",
   "execution_count": 6,
   "metadata": {
    "collapsed": false
   },
   "outputs": [
    {
     "data": {
      "text/plain": [
       "array([5, 5])"
      ]
     },
     "execution_count": 6,
     "metadata": {},
     "output_type": "execute_result"
    }
   ],
   "source": [
    "pf.p[0]"
   ]
  },
  {
   "cell_type": "code",
   "execution_count": 8,
   "metadata": {
    "collapsed": false
   },
   "outputs": [
    {
     "data": {
      "text/plain": [
       "5"
      ]
     },
     "execution_count": 8,
     "metadata": {},
     "output_type": "execute_result"
    }
   ],
   "source": [
    "pf.p[0][0]"
   ]
  },
  {
   "cell_type": "code",
   "execution_count": null,
   "metadata": {
    "collapsed": true
   },
   "outputs": [],
   "source": []
  }
 ],
 "metadata": {
  "anaconda-cloud": {},
  "kernelspec": {
   "display_name": "Python [Root]",
   "language": "python",
   "name": "Python [Root]"
  },
  "language_info": {
   "codemirror_mode": {
    "name": "ipython",
    "version": 3
   },
   "file_extension": ".py",
   "mimetype": "text/x-python",
   "name": "python",
   "nbconvert_exporter": "python",
   "pygments_lexer": "ipython3",
   "version": "3.7.11"
  }
 },
 "nbformat": 4,
 "nbformat_minor": 0
}
