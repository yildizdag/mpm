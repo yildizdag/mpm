{
 "cells": [
  {
   "cell_type": "code",
   "execution_count": 18,
   "metadata": {
    "collapsed": true
   },
   "outputs": [],
   "source": [
    "import numpy as np\n",
    "import os.path"
   ]
  },
  {
   "cell_type": "code",
   "execution_count": 40,
   "metadata": {
    "collapsed": false
   },
   "outputs": [],
   "source": [
    "class patchFamily2D:\n",
    "    def __init__(self,file_ID):\n",
    "        #\n",
    "        self.U = [] # Knot Vector U\n",
    "        #self.V = [] # Knot Vector V\n",
    "        self.CP = [] # Kontrol Points\n",
    "        self.p = [] # Orders\n",
    "        self.N = [] # Number of Basis Functions\n",
    "        # Connectivity\n",
    "        self.nel = []\n",
    "        self.nnp = []\n",
    "        self.nen = []\n",
    "        self.INC = []\n",
    "        self.IEN = []\n",
    "        # Read Patch Data\n",
    "        file_exists = os.path.exists(file_ID+'1')\n",
    "        fNo = 1\n",
    "        while (file_exists == True):\n",
    "            f = open(file_ID+str(fNo), \"r\")\n",
    "            data = f.readlines()\n",
    "            # Knot Vector - V\n",
    "            lenV = int(data[0])\n",
    "            V_p = np.zeros(lenV)\n",
    "            dataV = data[1].split(\" \")\n",
    "            for i in range(0,lenV):\n",
    "                V_p[i] = float(dataV[i])\n",
    "            #self.V.append(V_p)\n",
    "            # Knot Vector - U\n",
    "            lenU = int(data[2])\n",
    "            U_p = np.zeros(lenU)\n",
    "            dataU = data[3].split(\" \")\n",
    "            for i in range(0,lenU):\n",
    "                U_p[i] = float(dataU[i])\n",
    "            self.U.append([])\n",
    "            self.U[fNo-1].append(U_p)\n",
    "            self.U[fNo-1].append(V_p)\n",
    "            # Control Points:\n",
    "            lenCP = int(data[4])\n",
    "            CP_p = np.zeros((lenCP,4))\n",
    "            for i in range(0,lenCP):\n",
    "                dataCP = data[i+5].split(\" \")\n",
    "                for j in range(0,4):\n",
    "                    CP_p[i][j] = float(dataCP[j])\n",
    "            self.CP.append(CP_p)\n",
    "            # Order:\n",
    "            p1 = 0\n",
    "            p2 = 0\n",
    "            while True:\n",
    "                if (U_p[p1] == U_p[p1+1]):\n",
    "                    p1 += 1\n",
    "                else:\n",
    "                    break\n",
    "            while True:\n",
    "                if (V_p[p2] == V_p[p2+1]):\n",
    "                    p2 += 1\n",
    "                else:\n",
    "                    break  \n",
    "            self.p.append(np.array([p1,p2]))\n",
    "            n = len(U_p)-p1-1\n",
    "            m = len(V_p)-p2-1\n",
    "            self.N.append(np.array([n,m]))\n",
    "            # Connectivity:\n",
    "            nel = (n-p1)*(m-p2)\n",
    "            self.nel.append(nel)\n",
    "            nnp = n*m\n",
    "            self.nnp.append(nnp)\n",
    "            nen = (p1+1)*(p2+1)\n",
    "            self.nen.append(nen)\n",
    "            #\n",
    "            INC = np.zeros((n*m,2))\n",
    "            IEN = np.zeros((nel,nen))\n",
    "            A = 0\n",
    "            B = 0\n",
    "            for j in range(1,m+1):\n",
    "                for i in range(1,n+1):\n",
    "                    INC[A][0] = i-1\n",
    "                    INC[A][1] = j-1\n",
    "                    if (i >= p1+1 and j >= p2+1):\n",
    "                        for k in range(0,p2+1):\n",
    "                            for l in range(0,p1+1):\n",
    "                                C = int(k*(p1+1)+l)\n",
    "                                IEN[B][C] = int((A-k*n-l))\n",
    "                        B += 1\n",
    "                    A += 1\n",
    "            self.INC.append(INC)\n",
    "            self.IEN.append(IEN)\n",
    "            #\n",
    "            fNo = fNo + 1\n",
    "            file_exists = os.path.exists(file_ID+str(fNo))\n",
    "        # Number of Patches:\n",
    "        self.np = fNo-1\n",
    "        \n",
    "    def findSpan(self,pN,pD,u):\n",
    "        if (u == self.U[pN][pD][self.N[pN][pD]+1]):\n",
    "            return n\n",
    "        low = self.p[pN][pD]\n",
    "        high = self.N[pN][pD]+1\n",
    "        mid = int((low+high)/2)\n",
    "        while (u<self.U[pN][pD][mid] or u>self.U[pN][pD][mid+1]):\n",
    "            if (u<self.U[pN][pD][mid]):\n",
    "                high = mid\n",
    "            else:\n",
    "                low = mid\n",
    "            mid = int(np.floor((low+high)/2))\n",
    "        return mid\n",
    "    \n",
    "    def dersBasisFuns(self,pN,pD,u,n):\n",
    "        i = self.findSpan(pN,pD,u)\n",
    "        left = np.zeros(self.p[pN][pD]+1)\n",
    "        right = np.zeros(self.p[pN][pD]+1)\n",
    "        ndu = np.zeros((self.p[pN][pD]+1,self.p[pN][pD]+1))\n",
    "        a = np.zeros((2,self.p[pN][pD]+1))\n",
    "        ders = np.zeros((n+1,self.p[pN][pD]+1))\n",
    "        #\n",
    "        ndu[0][0] = 1.0\n",
    "        for j in range(1,self.p[pN][pD]+1):\n",
    "            left[j] = u-self.U[pN][pD][i+1-j]\n",
    "            right[j] = self.U[pN][pD][i+j]-u\n",
    "            saved = 0.0\n",
    "            for r in range(0,j):\n",
    "                ndu[j][r] = right[r+1]+left[j-r]\n",
    "                temp = ndu[r][j-1]/ndu[j][r]\n",
    "                ndu[r][j] = saved+right[r+1]*temp\n",
    "                saved = left[j-r]*temp\n",
    "            ndu[j][j] = saved\n",
    "        for j in range(0,self.p[pN][pD]+1):\n",
    "            ders[0][j] = ndu[j][self.p[pN][pD]]\n",
    "        for r in range(0,self.p[pN][pD]+1):\n",
    "            s1 = 0\n",
    "            s2 = 1\n",
    "            a[0][0] = 1.0\n",
    "            for k in range(1,n+1):\n",
    "                d =0.0\n",
    "                rk = r-k\n",
    "                pk = self.p[pN][pD]-k\n",
    "                if (r >= k):\n",
    "                    a[s2][0] = a[s1][0]/ndu[pk+1][rk]\n",
    "                    d = a[s2][0]*ndu[rk][pk]\n",
    "                if (rk >= -1):\n",
    "                    j1 = 1\n",
    "                else:\n",
    "                    j1 = -rk\n",
    "                if (r-1 <= pk):\n",
    "                    j2 = k-1\n",
    "                else:\n",
    "                    j2 = self.p[pN][pD]-r\n",
    "                for j in range(j1,j2+1):\n",
    "                    a[s2][j] = (a[s1][j]-a[s1][j-1])/ndu[pk+1][rk+j]\n",
    "                    d += a[s2][j]*ndu[rk+j][pk]\n",
    "                if (r <= pk):\n",
    "                    a[s2][k] = -a[s1][k-1]/ndu[pk+1][r]\n",
    "                    d += a[s2][k]*ndu[r][pk]\n",
    "                ders[k][r] = d\n",
    "                j = s1\n",
    "                s1 = s2\n",
    "                s2 = j\n",
    "        r = self.p[pN][pD]\n",
    "        for k in range(1,n+1):\n",
    "            for j in range(0,self.p[pN][pD]+1):\n",
    "                ders[k][j] *= r\n",
    "            r *= (self.p[pN][pD]-k)\n",
    "        return ders\n",
    "    \n",
    "    def ratBasisFuns2D(self,pN,pD,u,v,du,dv):\n",
    "        N = self.dersBasisFuns(self,pN,pD,u,du)\n",
    "        M = self.dersBasisFuns(self,pN,pD,v,dv)\n",
    "        R = np.zeros((((self.p[pN][0],self.p[pN][1],du+1,dv+1))))\n",
    "        wders = np.zeros((du+1,dv+1))\n",
    "        for k in range(0,du+1):\n",
    "            for l in range(0,dv+1):\n",
    "                wders[k][l] = N[k][:].dot(wMat.dot(M[l][:]))\n",
    "                temp1 = (N[k][:].dot(M[l][:]))*wMat\n",
    "                for j in range(1,l+1):\n",
    "                    temp1 -= (math.comb(l,j)*wders[0][j])*R[:][:][k][l-j]\n",
    "                for i in range(1,k+1):\n",
    "                    temp1 -= (math.comb(k,i)*wders[i][0])*R[:][:][k-i][l]\n",
    "                    temp2 = np.zeros((p,q))\n",
    "                    for j in range (1,l+1):\n",
    "                        temp2 += (math.comb(l,j)*wders[i][j])*R[:][:][k-i][l-j]\n",
    "                    temp1 -= math.comb(k,i)*temp2\n",
    "                R[:][:][k][l] = temp1/wders[0][0]\n",
    "        return R"
   ]
  },
  {
   "cell_type": "code",
   "execution_count": 41,
   "metadata": {
    "collapsed": false
   },
   "outputs": [],
   "source": [
    "pf = patchFamily2D('igabem_DR05_4th_768_')"
   ]
  },
  {
   "cell_type": "code",
   "execution_count": 46,
   "metadata": {
    "collapsed": false
   },
   "outputs": [
    {
     "data": {
      "text/plain": [
       "array([[ 1.70666639e-02,  3.52066662e-01,  5.44733345e-01,\n",
       "         8.60666620e-02,  6.66665760e-05],\n",
       "       [-2.04799988e+00, -1.30880002e+01,  8.35200035e+00,\n",
       "         6.75199975e+00,  3.19999693e-02],\n",
       "       [ 1.84320007e+02,  1.15199956e+01, -5.64480009e+02,\n",
       "         3.57120013e+02,  1.15199935e+01],\n",
       "       [-1.10592015e+04,  3.04128039e+04, -2.48832045e+04,\n",
       "         2.76480254e+03,  2.76479956e+03],\n",
       "       [ 3.31776080e+05, -1.32710426e+06,  1.99065636e+06,\n",
       "        -1.32710426e+06,  3.31776080e+05],\n",
       "       [ 0.00000000e+00,  0.00000000e+00,  0.00000000e+00,\n",
       "         0.00000000e+00,  0.00000000e+00]])"
      ]
     },
     "execution_count": 46,
     "metadata": {},
     "output_type": "execute_result"
    }
   ],
   "source": [
    "pf.dersBasisFuns(0,0,0.3,5)"
   ]
  },
  {
   "cell_type": "code",
   "execution_count": null,
   "metadata": {
    "collapsed": false
   },
   "outputs": [],
   "source": [
    "pf.V[0][:]"
   ]
  },
  {
   "cell_type": "code",
   "execution_count": 8,
   "metadata": {
    "collapsed": false
   },
   "outputs": [],
   "source": [
    "U = []"
   ]
  },
  {
   "cell_type": "code",
   "execution_count": 9,
   "metadata": {
    "collapsed": false
   },
   "outputs": [],
   "source": [
    "U.append([])"
   ]
  },
  {
   "cell_type": "code",
   "execution_count": 11,
   "metadata": {
    "collapsed": false
   },
   "outputs": [],
   "source": [
    "U.append([])"
   ]
  },
  {
   "cell_type": "code",
   "execution_count": 12,
   "metadata": {
    "collapsed": false
   },
   "outputs": [
    {
     "data": {
      "text/plain": [
       "[[], []]"
      ]
     },
     "execution_count": 12,
     "metadata": {},
     "output_type": "execute_result"
    }
   ],
   "source": [
    "U"
   ]
  },
  {
   "cell_type": "code",
   "execution_count": null,
   "metadata": {
    "collapsed": true
   },
   "outputs": [],
   "source": []
  }
 ],
 "metadata": {
  "anaconda-cloud": {},
  "kernelspec": {
   "display_name": "Python [Root]",
   "language": "python",
   "name": "Python [Root]"
  },
  "language_info": {
   "codemirror_mode": {
    "name": "ipython",
    "version": 3
   },
   "file_extension": ".py",
   "mimetype": "text/x-python",
   "name": "python",
   "nbconvert_exporter": "python",
   "pygments_lexer": "ipython3",
   "version": "3.7.11"
  }
 },
 "nbformat": 4,
 "nbformat_minor": 0
}
