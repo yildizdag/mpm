{
 "cells": [
  {
   "cell_type": "code",
   "execution_count": 1,
   "metadata": {},
   "outputs": [],
   "source": [
    "import numpy as np\n",
    "import os.path\n",
    "import math"
   ]
  },
  {
   "cell_type": "code",
   "execution_count": 2,
   "metadata": {},
   "outputs": [],
   "source": [
    "class patchFamily2D:\n",
    "    def __init__(self,file_ID,ndof):\n",
    "        # Knot Vectors\n",
    "        self.U = []\n",
    "        # Control Points\n",
    "        self.CP = []\n",
    "        # Orders\n",
    "        self.p = []\n",
    "        # Number of Shape Functions\n",
    "        self.nsf = []\n",
    "        # Connectivity\n",
    "        self.nel = []\n",
    "        self.nnp = []\n",
    "        self.nen = []\n",
    "        self.INC = []\n",
    "        self.IEN = []\n",
    "        self.ID = []\n",
    "        self.LM = []\n",
    "        # READ PATCH FAMILY NAMED WITH \"file_ID\"\n",
    "        file_exists = os.path.exists(file_ID+'1')\n",
    "        fNo = 1\n",
    "        while (file_exists == True):\n",
    "            f = open(file_ID+str(fNo), \"r\")\n",
    "            data = f.readlines()\n",
    "            # Knot Vector - V\n",
    "            lenV = int(data[0])\n",
    "            V_p = np.zeros(lenV)\n",
    "            dataV = data[1].split(\" \")\n",
    "            for i in range(0,lenV):\n",
    "                V_p[i] = float(dataV[i])\n",
    "            # Knot Vector - U\n",
    "            lenU = int(data[2])\n",
    "            U_p = np.zeros(lenU)\n",
    "            dataU = data[3].split(\" \")\n",
    "            for i in range(0,lenU):\n",
    "                U_p[i] = float(dataU[i])\n",
    "            self.U.append([])\n",
    "            self.U[fNo-1].append(U_p)\n",
    "            self.U[fNo-1].append(V_p)\n",
    "            # Control Points:\n",
    "            lenCP = int(data[4])\n",
    "            CP_p = np.zeros((lenCP,4))\n",
    "            for i in range(0,lenCP):\n",
    "                dataCP = data[i+5].split(\" \")\n",
    "                for j in range(0,4):\n",
    "                    CP_p[i][j] = float(dataCP[j])\n",
    "            self.CP.append(CP_p)\n",
    "            # Order:\n",
    "            p1 = 0\n",
    "            p2 = 0\n",
    "            while True:\n",
    "                if (U_p[p1] == U_p[p1+1]):\n",
    "                    p1 += 1\n",
    "                else:\n",
    "                    break\n",
    "            while True:\n",
    "                if (V_p[p2] == V_p[p2+1]):\n",
    "                    p2 += 1\n",
    "                else:\n",
    "                    break  \n",
    "            self.p.append(np.array([p1,p2]))\n",
    "            n = len(U_p)-p1-1\n",
    "            m = len(V_p)-p2-1\n",
    "            self.nsf.append(np.array([n,m]))\n",
    "            # Connectivity:\n",
    "            nel = (n-p1)*(m-p2)\n",
    "            self.nel.append(nel)\n",
    "            nnp = n*m\n",
    "            self.nnp.append(nnp)\n",
    "            nen = (p1+1)*(p2+1)\n",
    "            self.nen.append(nen)\n",
    "            INC = np.zeros((n*m,2)).astype(int)\n",
    "            IEN = np.zeros((nel,nen)).astype(int)\n",
    "            A = 0\n",
    "            B = 0\n",
    "            for j in range(1,m+1):\n",
    "                for i in range(1,n+1):\n",
    "                    INC[A][0] = (i-1)\n",
    "                    INC[A][1] = (j-1)\n",
    "                    if (i >= p1+1 and j >= p2+1):\n",
    "                        for k in range(0,p2+1):\n",
    "                            for l in range(0,p1+1):\n",
    "                                C = int(k*(p1+1)+l)\n",
    "                                IEN[B][C] = ((A-k*n-l))\n",
    "                        B += 1\n",
    "                    A += 1\n",
    "            self.INC.append(INC)\n",
    "            self.IEN.append(IEN)\n",
    "            #\n",
    "            fNo = fNo + 1\n",
    "            file_exists = os.path.exists(file_ID+str(fNo))\n",
    "        # Number of Patches:\n",
    "        self.np = fNo-1\n",
    "        # ID ARRAY\n",
    "        count = 0\n",
    "        for i in range(0,self.np):\n",
    "            nnp_p = self.nnp[i]\n",
    "            ID_p = np.zeros((nnp_p,ndof)).astype(int)\n",
    "            for j in range(0,nnp_p):\n",
    "                for k in range(0,ndof):\n",
    "                    ID_p[j,k] = count\n",
    "                    count += 1\n",
    "            self.ID.append(ID_p)\n",
    "        # LM ARRAY\n",
    "        for i in range(0,self.np):\n",
    "            LM_p = np.zeros(((self.nel[i],self.nen[i],ndof))).astype(int)\n",
    "            for j in range(0,self.nel[i]):\n",
    "                for k in range(0,self.nen[i]):\n",
    "                    LM_p[j,k,:] = self.ID[i][self.IEN[i][j,k],:]\n",
    "            self.LM.append(LM_p)\n",
    "    ############ \n",
    "    # SPAN INDEX\n",
    "    def findSpan(self,pN,pD,u):\n",
    "        if (u == self.U[pN][pD][self.nsf[pN][pD]+1]):\n",
    "            return n\n",
    "        low = self.p[pN][pD]\n",
    "        high = self.nsf[pN][pD]+1\n",
    "        mid = int((low+high)/2)\n",
    "        while (u<self.U[pN][pD][mid] or u>self.U[pN][pD][mid+1]):\n",
    "            if (u<self.U[pN][pD][mid]):\n",
    "                high = mid\n",
    "            else:\n",
    "                low = mid\n",
    "            mid = int(np.floor((low+high)/2))\n",
    "        return mid\n",
    "    ############\n",
    "    # DERIVATIVES\n",
    "    def dersBasisFuns(self,pN,pD,u,n):\n",
    "        i = self.findSpan(pN,pD,u)\n",
    "        left = np.zeros(self.p[pN][pD]+1)\n",
    "        right = np.zeros(self.p[pN][pD]+1)\n",
    "        ndu = np.zeros((self.p[pN][pD]+1,self.p[pN][pD]+1))\n",
    "        a = np.zeros((2,self.p[pN][pD]+1))\n",
    "        ders = np.zeros((n+1,self.p[pN][pD]+1))\n",
    "        #\n",
    "        ndu[0][0] = 1.0\n",
    "        for j in range(1,self.p[pN][pD]+1):\n",
    "            left[j] = u-self.U[pN][pD][i+1-j]\n",
    "            right[j] = self.U[pN][pD][i+j]-u\n",
    "            saved = 0.0\n",
    "            for r in range(0,j):\n",
    "                ndu[j][r] = right[r+1]+left[j-r]\n",
    "                temp = ndu[r][j-1]/ndu[j][r]\n",
    "                ndu[r][j] = saved+right[r+1]*temp\n",
    "                saved = left[j-r]*temp\n",
    "            ndu[j][j] = saved\n",
    "        for j in range(0,self.p[pN][pD]+1):\n",
    "            ders[0][j] = ndu[j][self.p[pN][pD]]\n",
    "        for r in range(0,self.p[pN][pD]+1):\n",
    "            s1 = 0\n",
    "            s2 = 1\n",
    "            a[0][0] = 1.0\n",
    "            for k in range(1,n+1):\n",
    "                d =0.0\n",
    "                rk = r-k\n",
    "                pk = self.p[pN][pD]-k\n",
    "                if (r >= k):\n",
    "                    a[s2][0] = a[s1][0]/ndu[pk+1][rk]\n",
    "                    d = a[s2][0]*ndu[rk][pk]\n",
    "                if (rk >= -1):\n",
    "                    j1 = 1\n",
    "                else:\n",
    "                    j1 = -rk\n",
    "                if (r-1 <= pk):\n",
    "                    j2 = k-1\n",
    "                else:\n",
    "                    j2 = self.p[pN][pD]-r\n",
    "                for j in range(j1,j2+1):\n",
    "                    a[s2][j] = (a[s1][j]-a[s1][j-1])/ndu[pk+1][rk+j]\n",
    "                    d += a[s2][j]*ndu[rk+j][pk]\n",
    "                if (r <= pk):\n",
    "                    a[s2][k] = -a[s1][k-1]/ndu[pk+1][r]\n",
    "                    d += a[s2][k]*ndu[r][pk]\n",
    "                ders[k][r] = d\n",
    "                j = s1\n",
    "                s1 = s2\n",
    "                s2 = j\n",
    "        r = self.p[pN][pD]\n",
    "        for k in range(1,n+1):\n",
    "            for j in range(0,self.p[pN][pD]+1):\n",
    "                ders[k][j] *= r\n",
    "            r *= (self.p[pN][pD]-k)\n",
    "        return ders\n",
    "    \n",
    "    def getCP(self,pN,p_el):\n",
    "        cp = np.zeros(((3,self.p[pN][0]+1,self.p[pN][1]+1)))\n",
    "        wMat = np.zeros((self.p[pN][0]+1,self.p[pN][1]+1))\n",
    "        iu = self.INC[pN][self.IEN[pN][p_el][0],0]\n",
    "        iv = self.INC[pN][self.IEN[pN][p_el][0],1]\n",
    "        ny = iv-self.p[pN][1]\n",
    "        k = 0\n",
    "        for j in range(0,self.p[pN][1]+1):\n",
    "            nx = iu-self.p[pN][0]\n",
    "            for i in range(0,self.p[pN][0]+1):\n",
    "                cp[0][i,j] = self.CP[pN][self.nsf[pN][0]*ny+nx][0]\n",
    "                cp[1][i,j] = self.CP[pN][self.nsf[pN][0]*ny+nx][1]\n",
    "                cp[2][i,j] = self.CP[pN][self.nsf[pN][0]*ny+nx][2]\n",
    "                wMat[i,j] = self.CP[pN][self.nsf[pN][0]*ny+nx][3]\n",
    "                nx += 1\n",
    "                k += 1\n",
    "            ny += 1\n",
    "        return cp, wMat\n",
    "    \n",
    "    def ratBasisFuns2D(self,pN,u,v,wMat,du,dv):\n",
    "        N = self.dersBasisFuns(pN,0,u,du)\n",
    "        M = self.dersBasisFuns(pN,1,v,dv)\n",
    "        R = np.zeros((((self.p[pN][0]+1,self.p[pN][1]+1,du+1,dv+1))))\n",
    "        wders = np.zeros((du+1,dv+1))\n",
    "        for k in range(0,du+1):\n",
    "            for l in range(0,dv+1):\n",
    "                wders[k][l] = N[k][:].dot(wMat.dot(M[l][:]))\n",
    "                temp1 = np.tensordot(N[k][:],(M[l][:]),0)*wMat\n",
    "                for j in range(1,l+1):\n",
    "                    temp1 -= (self.nchoosek(l,j)*wders[0][j])*R[:,:,k,l-j]\n",
    "                for i in range(1,k+1):\n",
    "                    temp1 -= (self.nchoosek(k,i)*wders[i][0])*R[:,:,k-i,l]\n",
    "                    temp2 = np.zeros((self.p[pN][0]+1,self.p[pN][1]+1))\n",
    "                    for j in range (1,l+1):\n",
    "                        temp2 += (self.nchoosek(l,j)*wders[i][j])*R[:,:,k-i,l-j]\n",
    "                    temp1 -= self.nchoosek(k,i)*temp2\n",
    "                R[:,:,k,l] = temp1/wders[0][0]\n",
    "        return R\n",
    "    \n",
    "    def nchoosek(self,n,r):\n",
    "        return math.factorial(n)/math.factorial(r)/math.factorial(n-r)\n",
    "    \n",
    "    def surfaceDerivs(self,R,cp,du,dv):\n",
    "        S = np.zeros(((3,du+1,dv+1)))\n",
    "        for i in range(0,du+1):\n",
    "            for j in range(0,dv+1):\n",
    "                S[0][i,j] = np.tensordot(cp[0],R[:,:,i,j])\n",
    "                S[1][i,j] = np.tensordot(cp[1],R[:,:,i,j])\n",
    "                S[2][i,j] = np.tensordot(cp[2],R[:,:,i,j])\n",
    "        return S"
   ]
  },
  {
   "cell_type": "code",
   "execution_count": 3,
   "metadata": {},
   "outputs": [],
   "source": [
    "pf = patchFamily2D('igabem_DR05_4th_768_',2)"
   ]
  },
  {
   "cell_type": "code",
   "execution_count": 4,
   "metadata": {},
   "outputs": [
    {
     "data": {
      "text/plain": [
       "3"
      ]
     },
     "execution_count": 4,
     "metadata": {},
     "output_type": "execute_result"
    }
   ],
   "source": [
    "# Number of Patches\n",
    "pf.np"
   ]
  },
  {
   "cell_type": "code",
   "execution_count": 5,
   "metadata": {},
   "outputs": [
    {
     "data": {
      "text/plain": [
       "[[array([0.        , 0.        , 0.        , 0.        , 0.        ,\n",
       "         0.04166667, 0.08333333, 0.125     , 0.16666667, 0.20833333,\n",
       "         0.25      , 0.29166667, 0.33333333, 0.375     , 0.41666667,\n",
       "         0.45833333, 0.5       , 0.54166667, 0.58333333, 0.625     ,\n",
       "         0.66666667, 0.70833333, 0.75      , 0.79166667, 0.83333333,\n",
       "         0.875     , 0.91666667, 0.95833333, 1.        , 1.        ,\n",
       "         1.        , 1.        , 1.        ]),\n",
       "  array([0.        , 0.        , 0.        , 0.        , 0.        ,\n",
       "         0.02083333, 0.04166667, 0.0625    , 0.08333333, 0.10416667,\n",
       "         0.125     , 0.14583333, 0.16666667, 0.1875    , 0.20833333,\n",
       "         0.22916667, 0.25      , 0.27083333, 0.29166667, 0.3125    ,\n",
       "         0.33333333, 0.35416667, 0.375     , 0.39583333, 0.41666667,\n",
       "         0.4375    , 0.45833333, 0.47916667, 0.5       , 0.52083333,\n",
       "         0.54166667, 0.5625    , 0.58333333, 0.60416667, 0.625     ,\n",
       "         0.64583333, 0.66666667, 0.6875    , 0.70833333, 0.72916667,\n",
       "         0.75      , 0.77083333, 0.79166667, 0.8125    , 0.83333333,\n",
       "         0.85416667, 0.875     , 0.89583333, 0.91666667, 0.9375    ,\n",
       "         0.95833333, 0.97916667, 1.        , 1.        , 1.        ,\n",
       "         1.        , 1.        ])],\n",
       " [array([0.        , 0.        , 0.        , 0.        , 0.        ,\n",
       "         0.04166667, 0.08333333, 0.125     , 0.16666667, 0.20833333,\n",
       "         0.25      , 0.29166667, 0.33333333, 0.375     , 0.41666667,\n",
       "         0.45833333, 0.5       , 0.54166667, 0.58333333, 0.625     ,\n",
       "         0.66666667, 0.70833333, 0.75      , 0.79166667, 0.83333333,\n",
       "         0.875     , 0.91666667, 0.95833333, 1.        , 1.        ,\n",
       "         1.        , 1.        , 1.        ]),\n",
       "  array([0.        , 0.        , 0.        , 0.        , 0.        ,\n",
       "         0.02083333, 0.04166667, 0.0625    , 0.08333333, 0.10416667,\n",
       "         0.125     , 0.14583333, 0.16666667, 0.1875    , 0.20833333,\n",
       "         0.22916667, 0.25      , 0.27083333, 0.29166667, 0.3125    ,\n",
       "         0.33333333, 0.35416667, 0.375     , 0.39583333, 0.41666667,\n",
       "         0.4375    , 0.45833333, 0.47916667, 0.5       , 0.52083333,\n",
       "         0.54166667, 0.5625    , 0.58333333, 0.60416667, 0.625     ,\n",
       "         0.64583333, 0.66666667, 0.6875    , 0.70833333, 0.72916667,\n",
       "         0.75      , 0.77083333, 0.79166667, 0.8125    , 0.83333333,\n",
       "         0.85416667, 0.875     , 0.89583333, 0.91666667, 0.9375    ,\n",
       "         0.95833333, 0.97916667, 1.        , 1.        , 1.        ,\n",
       "         1.        , 1.        ])],\n",
       " [array([0.        , 0.        , 0.        , 0.        , 0.        ,\n",
       "         0.04166667, 0.08333333, 0.125     , 0.16666667, 0.20833333,\n",
       "         0.25      , 0.29166667, 0.33333333, 0.375     , 0.41666667,\n",
       "         0.45833333, 0.5       , 0.54166667, 0.58333333, 0.625     ,\n",
       "         0.66666667, 0.70833333, 0.75      , 0.79166667, 0.83333333,\n",
       "         0.875     , 0.91666667, 0.95833333, 1.        , 1.        ,\n",
       "         1.        , 1.        , 1.        ]),\n",
       "  array([0.     , 0.     , 0.     , 0.     , 0.     , 0.03125, 0.0625 ,\n",
       "         0.09375, 0.125  , 0.15625, 0.1875 , 0.21875, 0.25   , 0.28125,\n",
       "         0.3125 , 0.34375, 0.375  , 0.40625, 0.4375 , 0.46875, 0.5    ,\n",
       "         0.53125, 0.5625 , 0.59375, 0.625  , 0.65625, 0.6875 , 0.71875,\n",
       "         0.75   , 0.78125, 0.8125 , 0.84375, 0.875  , 0.90625, 0.9375 ,\n",
       "         0.96875, 1.     , 1.     , 1.     , 1.     , 1.     ])]]"
      ]
     },
     "execution_count": 5,
     "metadata": {},
     "output_type": "execute_result"
    }
   ],
   "source": [
    "# Knot Vectors:\n",
    "pf.U"
   ]
  },
  {
   "cell_type": "code",
   "execution_count": 6,
   "metadata": {},
   "outputs": [
    {
     "data": {
      "text/plain": [
       "array([[-0.642     ,  0.        , -0.18      ,  1.        ],\n",
       "       [-0.642     ,  0.00588556, -0.17997919,  1.        ],\n",
       "       [-0.642     ,  0.01765466, -0.17939616,  1.        ],\n",
       "       ...,\n",
       "       [ 0.642     ,  0.01765464,  0.17939603,  1.        ],\n",
       "       [ 0.642     ,  0.00588556,  0.17997917,  1.        ],\n",
       "       [ 0.642     ,  0.        ,  0.18      ,  1.        ]])"
      ]
     },
     "execution_count": 6,
     "metadata": {},
     "output_type": "execute_result"
    }
   ],
   "source": [
    "# Control Points:\n",
    "pf.CP[0]"
   ]
  },
  {
   "cell_type": "code",
   "execution_count": 7,
   "metadata": {},
   "outputs": [
    {
     "data": {
      "text/plain": [
       "array([4, 4])"
      ]
     },
     "execution_count": 7,
     "metadata": {},
     "output_type": "execute_result"
    }
   ],
   "source": [
    "# Order:\n",
    "pf.p[0]"
   ]
  },
  {
   "cell_type": "code",
   "execution_count": 8,
   "metadata": {},
   "outputs": [
    {
     "data": {
      "text/plain": [
       "array([28, 52])"
      ]
     },
     "execution_count": 8,
     "metadata": {},
     "output_type": "execute_result"
    }
   ],
   "source": [
    "# Number of Shape Functions:\n",
    "pf.nsf[0]"
   ]
  },
  {
   "cell_type": "code",
   "execution_count": 9,
   "metadata": {},
   "outputs": [
    {
     "data": {
      "text/plain": [
       "array([[ 0,  0],\n",
       "       [ 1,  0],\n",
       "       [ 2,  0],\n",
       "       ...,\n",
       "       [25, 51],\n",
       "       [26, 51],\n",
       "       [27, 51]])"
      ]
     },
     "execution_count": 9,
     "metadata": {},
     "output_type": "execute_result"
    }
   ],
   "source": [
    "pf.INC[0]"
   ]
  },
  {
   "cell_type": "code",
   "execution_count": 10,
   "metadata": {},
   "outputs": [
    {
     "name": "stdout",
     "output_type": "stream",
     "text": [
      "[[ 2.56000123e-02  4.28999994e-01  4.40999997e-01  9.89999974e-02\n",
      "   5.39999968e-03]\n",
      " [-6.14400172e+00 -2.06399987e+01  1.58400006e+01  1.00799998e+01\n",
      "   8.63999948e-01]\n",
      " [ 1.10592009e+03 -5.18400162e+02 -1.20959993e+03  5.18400006e+02\n",
      "   1.03679994e+02]]\n",
      "[[ 5.12000123e-02  4.29599985e-01  4.33066660e-01  8.60666761e-02\n",
      "   6.66668480e-05]\n",
      " [-1.22880005e+01 -2.53439976e+01  2.40639970e+01  1.35040010e+01\n",
      "   6.40001229e-02]\n",
      " [ 2.21183965e+03 -1.65887960e+03 -2.02751999e+03  1.42847990e+03\n",
      "   4.60800516e+01]]\n"
     ]
    }
   ],
   "source": [
    "N = pf.dersBasisFuns(0,0,0.025,2)\n",
    "M = pf.dersBasisFuns(0,1,0.025,2)\n",
    "print(N)\n",
    "print(M)"
   ]
  },
  {
   "cell_type": "code",
   "execution_count": 11,
   "metadata": {},
   "outputs": [
    {
     "data": {
      "text/plain": [
       "array([[ 116,  115,  114, ...,    2,    1,    0],\n",
       "       [ 117,  116,  115, ...,    3,    2,    1],\n",
       "       [ 118,  117,  116, ...,    4,    3,    2],\n",
       "       ...,\n",
       "       [1453, 1452, 1451, ..., 1339, 1338, 1337],\n",
       "       [1454, 1453, 1452, ..., 1340, 1339, 1338],\n",
       "       [1455, 1454, 1453, ..., 1341, 1340, 1339]])"
      ]
     },
     "execution_count": 11,
     "metadata": {},
     "output_type": "execute_result"
    }
   ],
   "source": [
    "pf.IEN[0]"
   ]
  },
  {
   "cell_type": "code",
   "execution_count": 12,
   "metadata": {},
   "outputs": [
    {
     "data": {
      "text/plain": [
       "array([[   0,    1],\n",
       "       [   2,    3],\n",
       "       [   4,    5],\n",
       "       ...,\n",
       "       [2906, 2907],\n",
       "       [2908, 2909],\n",
       "       [2910, 2911]])"
      ]
     },
     "execution_count": 12,
     "metadata": {},
     "output_type": "execute_result"
    }
   ],
   "source": [
    "pf.ID[0]"
   ]
  },
  {
   "cell_type": "code",
   "execution_count": 13,
   "metadata": {},
   "outputs": [
    {
     "data": {
      "text/plain": [
       "array([[1., 1., 1., 1., 1.],\n",
       "       [1., 1., 1., 1., 1.],\n",
       "       [1., 1., 1., 1., 1.],\n",
       "       [1., 1., 1., 1., 1.],\n",
       "       [1., 1., 1., 1., 1.]])"
      ]
     },
     "execution_count": 13,
     "metadata": {},
     "output_type": "execute_result"
    }
   ],
   "source": [
    "cp, wMat = pf.getCP(0,0)\n",
    "wMat"
   ]
  },
  {
   "cell_type": "code",
   "execution_count": 14,
   "metadata": {},
   "outputs": [
    {
     "data": {
      "text/plain": [
       "array([[694, 695],\n",
       "       [692, 693],\n",
       "       [690, 691],\n",
       "       [688, 689],\n",
       "       [686, 687],\n",
       "       [638, 639],\n",
       "       [636, 637],\n",
       "       [634, 635],\n",
       "       [632, 633],\n",
       "       [630, 631],\n",
       "       [582, 583],\n",
       "       [580, 581],\n",
       "       [578, 579],\n",
       "       [576, 577],\n",
       "       [574, 575],\n",
       "       [526, 527],\n",
       "       [524, 525],\n",
       "       [522, 523],\n",
       "       [520, 521],\n",
       "       [518, 519],\n",
       "       [470, 471],\n",
       "       [468, 469],\n",
       "       [466, 467],\n",
       "       [464, 465],\n",
       "       [462, 463]])"
      ]
     },
     "execution_count": 14,
     "metadata": {},
     "output_type": "execute_result"
    }
   ],
   "source": [
    "pf.LM[0][199]"
   ]
  },
  {
   "cell_type": "code",
   "execution_count": 15,
   "metadata": {},
   "outputs": [
    {
     "data": {
      "text/plain": [
       "array([[[-0.642     , -0.6353125 , -0.6219375 , -0.601875  ,\n",
       "         -0.575125  ],\n",
       "        [-0.642     , -0.6353125 , -0.6219375 , -0.601875  ,\n",
       "         -0.575125  ],\n",
       "        [-0.642     , -0.6353125 , -0.6219375 , -0.601875  ,\n",
       "         -0.575125  ],\n",
       "        [-0.642     , -0.6353125 , -0.6219375 , -0.601875  ,\n",
       "         -0.575125  ],\n",
       "        [-0.642     , -0.6353125 , -0.6219375 , -0.601875  ,\n",
       "         -0.575125  ]],\n",
       "\n",
       "       [[ 0.        ,  0.        ,  0.        ,  0.        ,\n",
       "          0.        ],\n",
       "        [ 0.00588556,  0.00588556,  0.00588556,  0.00588556,\n",
       "          0.00588556],\n",
       "        [ 0.01765466,  0.01765466,  0.01765466,  0.01765466,\n",
       "          0.01765466],\n",
       "        [ 0.03519176,  0.03519176,  0.03519176,  0.03519176,\n",
       "          0.03519176],\n",
       "        [ 0.05795975,  0.05795975,  0.05795975,  0.05795975,\n",
       "          0.05795975]],\n",
       "\n",
       "       [[-0.18      , -0.18      , -0.18      , -0.18      ,\n",
       "         -0.18      ],\n",
       "        [-0.17997919, -0.17997919, -0.17997919, -0.17997919,\n",
       "         -0.17997919],\n",
       "        [-0.17939616, -0.17939616, -0.17939616, -0.17939616,\n",
       "         -0.17939616],\n",
       "        [-0.17694896, -0.17694896, -0.17694896, -0.17694896,\n",
       "         -0.17694896],\n",
       "        [-0.17071662, -0.17071662, -0.17071662, -0.17071662,\n",
       "         -0.17071662]]])"
      ]
     },
     "execution_count": 15,
     "metadata": {},
     "output_type": "execute_result"
    }
   ],
   "source": [
    "cp"
   ]
  },
  {
   "cell_type": "code",
   "execution_count": 16,
   "metadata": {},
   "outputs": [
    {
     "data": {
      "text/plain": [
       "array([[ 5.66231221e+01, -4.24673382e+01, -5.19045367e+01,\n",
       "         3.65691029e+01,  1.17964989e+00],\n",
       "       [ 9.48879195e+02, -7.11659339e+02, -8.69806065e+02,\n",
       "         6.12817867e+02,  1.97683419e+01],\n",
       "       [ 9.75421276e+02, -7.31565899e+02, -8.94136310e+02,\n",
       "         6.29959630e+02,  2.03213026e+01],\n",
       "       [ 2.18972119e+02, -1.64229076e+02, -2.00724474e+02,\n",
       "         1.41419506e+02,  4.56192499e+00],\n",
       "       [ 1.19439334e+01, -8.95794931e+00, -1.09486073e+01,\n",
       "         7.71379098e+00,  2.48832264e-01]])"
      ]
     },
     "execution_count": 16,
     "metadata": {},
     "output_type": "execute_result"
    }
   ],
   "source": [
    "R = pf.ratBasisFuns2D(0,0.025,0.025,wMat,2,2)\n",
    "R[:,:,0,2]"
   ]
  },
  {
   "cell_type": "code",
   "execution_count": 17,
   "metadata": {},
   "outputs": [
    {
     "data": {
      "text/plain": [
       "array([ 8.59424003e-01,  5.55111512e-17, -4.44089210e-16])"
      ]
     },
     "execution_count": 17,
     "metadata": {},
     "output_type": "execute_result"
    }
   ],
   "source": [
    "S = pf.surfaceDerivs(R,cp,2,2)\n",
    "S[:,0,1]"
   ]
  },
  {
   "cell_type": "code",
   "execution_count": null,
   "metadata": {},
   "outputs": [],
   "source": []
  },
  {
   "cell_type": "code",
   "execution_count": 18,
   "metadata": {},
   "outputs": [
    {
     "data": {
      "text/plain": [
       "array([-0.62698077,  0.859424  ,  8.62848212])"
      ]
     },
     "execution_count": 18,
     "metadata": {},
     "output_type": "execute_result"
    }
   ],
   "source": [
    "S[:][0,0]"
   ]
  },
  {
   "cell_type": "code",
   "execution_count": 33,
   "metadata": {},
   "outputs": [
    {
     "data": {
      "text/plain": [
       "array([[-0.642     ,  0.        , -0.18      ,  1.        ],\n",
       "       [-0.642     ,  0.00588556, -0.17997919,  1.        ],\n",
       "       [-0.642     ,  0.01765466, -0.17939616,  1.        ],\n",
       "       ...,\n",
       "       [ 0.642     ,  0.01765464,  0.17939603,  1.        ],\n",
       "       [ 0.642     ,  0.00588556,  0.17997917,  1.        ],\n",
       "       [ 0.642     ,  0.        ,  0.18      ,  1.        ]])"
      ]
     },
     "execution_count": 33,
     "metadata": {},
     "output_type": "execute_result"
    }
   ],
   "source": [
    "AA = pf.CP[0]\n",
    "AA"
   ]
  },
  {
   "cell_type": "code",
   "execution_count": 39,
   "metadata": {},
   "outputs": [],
   "source": [
    "BB = np.where(AA[:,0]<-0.6419)"
   ]
  },
  {
   "cell_type": "code",
   "execution_count": 40,
   "metadata": {},
   "outputs": [
    {
     "data": {
      "text/plain": [
       "(array([ 0,  1,  2,  3,  4,  5,  6,  7,  8,  9, 10, 11, 12, 13, 14, 15, 16,\n",
       "        17, 18, 19, 20, 21, 22, 23, 24, 25, 26, 27]),)"
      ]
     },
     "execution_count": 40,
     "metadata": {},
     "output_type": "execute_result"
    }
   ],
   "source": [
    "BB"
   ]
  },
  {
   "cell_type": "code",
   "execution_count": 41,
   "metadata": {},
   "outputs": [
    {
     "data": {
      "text/plain": [
       "array([ 0,  1,  2,  3,  4,  5,  6,  7,  8,  9, 10, 11, 12, 13, 14, 15, 16,\n",
       "       17, 18, 19, 20, 21, 22, 23, 24, 25, 26, 27])"
      ]
     },
     "execution_count": 41,
     "metadata": {},
     "output_type": "execute_result"
    }
   ],
   "source": [
    "BB[0]"
   ]
  },
  {
   "cell_type": "code",
   "execution_count": 42,
   "metadata": {},
   "outputs": [],
   "source": [
    "CC = []"
   ]
  },
  {
   "cell_type": "code",
   "execution_count": 46,
   "metadata": {},
   "outputs": [],
   "source": [
    "CC.append(np.array([0,1,2,3]))"
   ]
  },
  {
   "cell_type": "code",
   "execution_count": 47,
   "metadata": {},
   "outputs": [
    {
     "data": {
      "text/plain": [
       "[array([0, 1, 2, 3])]"
      ]
     },
     "execution_count": 47,
     "metadata": {},
     "output_type": "execute_result"
    }
   ],
   "source": [
    "CC"
   ]
  },
  {
   "cell_type": "code",
   "execution_count": null,
   "metadata": {},
   "outputs": [],
   "source": []
  }
 ],
 "metadata": {
  "anaconda-cloud": {},
  "kernelspec": {
   "display_name": "Python 3 (ipykernel)",
   "language": "python",
   "name": "python3"
  },
  "language_info": {
   "codemirror_mode": {
    "name": "ipython",
    "version": 3
   },
   "file_extension": ".py",
   "mimetype": "text/x-python",
   "name": "python",
   "nbconvert_exporter": "python",
   "pygments_lexer": "ipython3",
   "version": "3.7.11"
  }
 },
 "nbformat": 4,
 "nbformat_minor": 1
}
