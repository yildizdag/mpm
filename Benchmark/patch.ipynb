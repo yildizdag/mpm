{
 "cells": [
  {
   "cell_type": "code",
   "execution_count": 1,
   "metadata": {
    "collapsed": true
   },
   "outputs": [],
   "source": [
    "import numpy as np\n",
    "import os.path"
   ]
  },
  {
   "cell_type": "code",
   "execution_count": 9,
   "metadata": {
    "collapsed": false
   },
   "outputs": [],
   "source": [
    "class patchFamily2D:\n",
    "    def __init__(self,file_ID):\n",
    "        #\n",
    "        self.U = []\n",
    "        self.V = []\n",
    "        self.CP = []\n",
    "        self.p = []\n",
    "        self.N = []\n",
    "        #\n",
    "        self.nel = []\n",
    "        self.nnp = []\n",
    "        self.nen = []\n",
    "        self.INC = []\n",
    "        self.IEN = []\n",
    "        #\n",
    "        file_exists = os.path.exists(file_ID+'1')\n",
    "        fNo = 1\n",
    "        while (file_exists == True):\n",
    "            f = open(file_ID+str(fNo), \"r\")\n",
    "            data = f.readlines()\n",
    "            # Knot Vector - V\n",
    "            lenV = int(data[0])\n",
    "            Vi = np.zeros(lenV)\n",
    "            dataV = data[1].split(\" \")\n",
    "            for i in range(0,lenV):\n",
    "                Vi[i] = float(dataV[i])\n",
    "            self.V.append(Vi)\n",
    "            # Knot Vector - U\n",
    "            lenU = int(data[2])\n",
    "            Ui = np.zeros(lenU)\n",
    "            dataU = data[3].split(\" \")\n",
    "            for i in range(0,lenU):\n",
    "                Ui[i] = float(dataU[i])\n",
    "            self.U.append(Ui)\n",
    "            # Control Points:\n",
    "            lenCP = int(data[4])\n",
    "            CPi = np.zeros((lenCP,4))\n",
    "            for i in range(0,lenCP):\n",
    "                dataCP = data[i+5].split(\" \")\n",
    "                for j in range(0,4):\n",
    "                    CPi[i][j] = float(dataCP[j])\n",
    "            self.CP.append(CPi)\n",
    "            #\n",
    "            pi = 0\n",
    "            qi = 0\n",
    "            while True:\n",
    "                if (Ui[pi] == Ui[pi+1]):\n",
    "                    pi += 1\n",
    "                else:\n",
    "                    break\n",
    "            while True:\n",
    "                if (Vi[qi] == Vi[qi+1]):\n",
    "                    qi += 1\n",
    "                else:\n",
    "                    break  \n",
    "            self.p.append(np.array([pi,qi]))\n",
    "            n = len(Ui)-pi-1\n",
    "            m = len(Vi)-qi-1\n",
    "            self.N.append(np.array([n,m]))\n",
    "            #\n",
    "            nel = (n-pi)*(m-qi)\n",
    "            self.nel.append(nel)\n",
    "            nnp = n*m\n",
    "            self.nnp.append(nnp)\n",
    "            nen = (pi+1)*(qi+1)\n",
    "            self.nen.append(nen)\n",
    "            #\n",
    "            INC = np.zeros((n*m,2))\n",
    "            IEN = np.zeros((nen,nel))\n",
    "            A = 0\n",
    "            e = 0\n",
    "            for j in range(0,m):\n",
    "                for i in range(0,n):\n",
    "                    INC[A][0] = i\n",
    "                    INC[A][1] = j\n",
    "                    if\n",
    "            #\n",
    "            fNo = fNo + 1\n",
    "            file_exists = os.path.exists(file_ID+str(fNo))"
   ]
  },
  {
   "cell_type": "code",
   "execution_count": 10,
   "metadata": {
    "collapsed": false
   },
   "outputs": [],
   "source": [
    "pf = patchFamily2D('igabem_DR05_4th_768_')"
   ]
  },
  {
   "cell_type": "code",
   "execution_count": 11,
   "metadata": {
    "collapsed": false
   },
   "outputs": [
    {
     "data": {
      "text/plain": [
       "[array([28, 52]), array([28, 52]), array([28, 36])]"
      ]
     },
     "execution_count": 11,
     "metadata": {},
     "output_type": "execute_result"
    }
   ],
   "source": [
    "pf.N"
   ]
  },
  {
   "cell_type": "code",
   "execution_count": 6,
   "metadata": {
    "collapsed": false
   },
   "outputs": [
    {
     "data": {
      "text/plain": [
       "array([5, 5])"
      ]
     },
     "execution_count": 6,
     "metadata": {},
     "output_type": "execute_result"
    }
   ],
   "source": [
    "pf.p[0]"
   ]
  },
  {
   "cell_type": "code",
   "execution_count": 8,
   "metadata": {
    "collapsed": false
   },
   "outputs": [
    {
     "data": {
      "text/plain": [
       "5"
      ]
     },
     "execution_count": 8,
     "metadata": {},
     "output_type": "execute_result"
    }
   ],
   "source": [
    "pf.p[0][0]"
   ]
  },
  {
   "cell_type": "code",
   "execution_count": null,
   "metadata": {
    "collapsed": true
   },
   "outputs": [],
   "source": []
  }
 ],
 "metadata": {
  "kernelspec": {
   "display_name": "Python [Root]",
   "language": "python",
   "name": "Python [Root]"
  },
  "language_info": {
   "codemirror_mode": {
    "name": "ipython",
    "version": 3
   },
   "file_extension": ".py",
   "mimetype": "text/x-python",
   "name": "python",
   "nbconvert_exporter": "python",
   "pygments_lexer": "ipython3",
   "version": "3.7.11"
  }
 },
 "nbformat": 4,
 "nbformat_minor": 0
}
