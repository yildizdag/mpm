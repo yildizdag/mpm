{
 "cells": [
  {
   "cell_type": "code",
   "execution_count": 110,
   "metadata": {
    "collapsed": true
   },
   "outputs": [],
   "source": [
    "import numpy as np\n",
    "import os.path"
   ]
  },
  {
   "cell_type": "code",
   "execution_count": 111,
   "metadata": {
    "collapsed": false
   },
   "outputs": [],
   "source": [
    "class patchFamily2D:\n",
    "    def __init__(self,file_ID):\n",
    "        #\n",
    "        self.U = [] # Knot Vectors\n",
    "        self.CP = [] # Kontrol Points\n",
    "        self.p = [] # Orders\n",
    "        self.nsf = [] # Number of Shape Functions\n",
    "        # Connectivity\n",
    "        self.nel = []\n",
    "        self.nnp = []\n",
    "        self.nen = []\n",
    "        self.INC = []\n",
    "        self.IEN = []\n",
    "        # Read Patch Data\n",
    "        file_exists = os.path.exists(file_ID+'1')\n",
    "        fNo = 1\n",
    "        while (file_exists == True):\n",
    "            f = open(file_ID+str(fNo), \"r\")\n",
    "            data = f.readlines()\n",
    "            # Knot Vector - V\n",
    "            lenV = int(data[0])\n",
    "            V_p = np.zeros(lenV)\n",
    "            dataV = data[1].split(\" \")\n",
    "            for i in range(0,lenV):\n",
    "                V_p[i] = float(dataV[i])\n",
    "            #self.V.append(V_p)\n",
    "            # Knot Vector - U\n",
    "            lenU = int(data[2])\n",
    "            U_p = np.zeros(lenU)\n",
    "            dataU = data[3].split(\" \")\n",
    "            for i in range(0,lenU):\n",
    "                U_p[i] = float(dataU[i])\n",
    "            self.U.append([])\n",
    "            self.U[fNo-1].append(U_p)\n",
    "            self.U[fNo-1].append(V_p)\n",
    "            # Control Points:\n",
    "            lenCP = int(data[4])\n",
    "            CP_p = np.zeros((lenCP,4))\n",
    "            for i in range(0,lenCP):\n",
    "                dataCP = data[i+5].split(\" \")\n",
    "                for j in range(0,4):\n",
    "                    CP_p[i][j] = float(dataCP[j])\n",
    "            self.CP.append(CP_p)\n",
    "            # Order:\n",
    "            p1 = 0\n",
    "            p2 = 0\n",
    "            while True:\n",
    "                if (U_p[p1] == U_p[p1+1]):\n",
    "                    p1 += 1\n",
    "                else:\n",
    "                    break\n",
    "            while True:\n",
    "                if (V_p[p2] == V_p[p2+1]):\n",
    "                    p2 += 1\n",
    "                else:\n",
    "                    break  \n",
    "            self.p.append(np.array([p1,p2]))\n",
    "            n = len(U_p)-p1-1\n",
    "            m = len(V_p)-p2-1\n",
    "            self.nsf.append(np.array([n,m]))\n",
    "            # Connectivity:\n",
    "            nel = (n-p1)*(m-p2)\n",
    "            self.nel.append(nel)\n",
    "            nnp = n*m\n",
    "            self.nnp.append(nnp)\n",
    "            nen = (p1+1)*(p2+1)\n",
    "            self.nen.append(nen)\n",
    "            #\n",
    "            INC = np.zeros((n*m,2)).astype(int)\n",
    "            IEN = np.zeros((nel,nen)).astype(int)\n",
    "            A = 0\n",
    "            B = 0\n",
    "            for j in range(1,m+1):\n",
    "                for i in range(1,n+1):\n",
    "                    INC[A][0] = (i-1)\n",
    "                    INC[A][1] = (j-1)\n",
    "                    if (i >= p1+1 and j >= p2+1):\n",
    "                        for k in range(0,p2+1):\n",
    "                            for l in range(0,p1+1):\n",
    "                                C = int(k*(p1+1)+l)\n",
    "                                IEN[B][C] = ((A-k*n-l))\n",
    "                        B += 1\n",
    "                    A += 1\n",
    "            self.INC.append(INC)\n",
    "            self.IEN.append(IEN)\n",
    "            #\n",
    "            fNo = fNo + 1\n",
    "            file_exists = os.path.exists(file_ID+str(fNo))\n",
    "        # Number of Patches:\n",
    "        self.np = fNo-1\n",
    "        \n",
    "    def findSpan(self,pN,pD,u):\n",
    "        if (u == self.U[pN][pD][self.nsf[pN][pD]+1]):\n",
    "            return n\n",
    "        low = self.p[pN][pD]\n",
    "        high = self.nsf[pN][pD]+1\n",
    "        mid = int((low+high)/2)\n",
    "        while (u<self.U[pN][pD][mid] or u>self.U[pN][pD][mid+1]):\n",
    "            if (u<self.U[pN][pD][mid]):\n",
    "                high = mid\n",
    "            else:\n",
    "                low = mid\n",
    "            mid = int(np.floor((low+high)/2))\n",
    "        return mid\n",
    "    \n",
    "    def dersBasisFuns(self,pN,pD,u,n):\n",
    "        i = self.findSpan(pN,pD,u)\n",
    "        left = np.zeros(self.p[pN][pD]+1)\n",
    "        right = np.zeros(self.p[pN][pD]+1)\n",
    "        ndu = np.zeros((self.p[pN][pD]+1,self.p[pN][pD]+1))\n",
    "        a = np.zeros((2,self.p[pN][pD]+1))\n",
    "        ders = np.zeros((n+1,self.p[pN][pD]+1))\n",
    "        #\n",
    "        ndu[0][0] = 1.0\n",
    "        for j in range(1,self.p[pN][pD]+1):\n",
    "            left[j] = u-self.U[pN][pD][i+1-j]\n",
    "            right[j] = self.U[pN][pD][i+j]-u\n",
    "            saved = 0.0\n",
    "            for r in range(0,j):\n",
    "                ndu[j][r] = right[r+1]+left[j-r]\n",
    "                temp = ndu[r][j-1]/ndu[j][r]\n",
    "                ndu[r][j] = saved+right[r+1]*temp\n",
    "                saved = left[j-r]*temp\n",
    "            ndu[j][j] = saved\n",
    "        for j in range(0,self.p[pN][pD]+1):\n",
    "            ders[0][j] = ndu[j][self.p[pN][pD]]\n",
    "        for r in range(0,self.p[pN][pD]+1):\n",
    "            s1 = 0\n",
    "            s2 = 1\n",
    "            a[0][0] = 1.0\n",
    "            for k in range(1,n+1):\n",
    "                d =0.0\n",
    "                rk = r-k\n",
    "                pk = self.p[pN][pD]-k\n",
    "                if (r >= k):\n",
    "                    a[s2][0] = a[s1][0]/ndu[pk+1][rk]\n",
    "                    d = a[s2][0]*ndu[rk][pk]\n",
    "                if (rk >= -1):\n",
    "                    j1 = 1\n",
    "                else:\n",
    "                    j1 = -rk\n",
    "                if (r-1 <= pk):\n",
    "                    j2 = k-1\n",
    "                else:\n",
    "                    j2 = self.p[pN][pD]-r\n",
    "                for j in range(j1,j2+1):\n",
    "                    a[s2][j] = (a[s1][j]-a[s1][j-1])/ndu[pk+1][rk+j]\n",
    "                    d += a[s2][j]*ndu[rk+j][pk]\n",
    "                if (r <= pk):\n",
    "                    a[s2][k] = -a[s1][k-1]/ndu[pk+1][r]\n",
    "                    d += a[s2][k]*ndu[r][pk]\n",
    "                ders[k][r] = d\n",
    "                j = s1\n",
    "                s1 = s2\n",
    "                s2 = j\n",
    "        r = self.p[pN][pD]\n",
    "        for k in range(1,n+1):\n",
    "            for j in range(0,self.p[pN][pD]+1):\n",
    "                ders[k][j] *= r\n",
    "            r *= (self.p[pN][pD]-k)\n",
    "        return ders\n",
    "    \n",
    "    def getCP(self,pN,p_el):\n",
    "        cp = np.zeros((self.nen[pN],4))\n",
    "        iu = self.INC[pN][self.IEN[pN][p_el][0],0]\n",
    "        iv = self.INC[pN][self.IEN[pN][p_el][0],1]\n",
    "        ny = iv-self.p[pN][1]\n",
    "        k = 0\n",
    "        for j in range(0,self.p[pN][1]+1):\n",
    "            nx = iu-self.p[pN][0]\n",
    "            for i in range(0,self.p[pN][0]+1):\n",
    "                cp[k][:] = self.CP[pN][self.nsf[pN][0]*ny+nx][:]\n",
    "                nx += 1\n",
    "                k += 1\n",
    "            ny += 1\n",
    "        return cp\n",
    "    \n",
    "    def ratBasisFuns2D(self,pN,u,v,du,dv):\n",
    "        N = self.dersBasisFuns(self,pN,0,u,du)\n",
    "        M = self.dersBasisFuns(self,pN,1,v,dv)\n",
    "        R = np.zeros((((self.p[pN][0],self.p[pN][1],du+1,dv+1))))\n",
    "        wders = np.zeros((du+1,dv+1))\n",
    "        wMat = np.reshape(CP[:,3],[self.p[pN][0]+1,self.p[pN][1]+1])\n",
    "        for k in range(0,du+1):\n",
    "            for l in range(0,dv+1):\n",
    "                wders[k][l] = N[k][:].dot(wMat.dot(M[l][:]))\n",
    "                temp1 = (N[k][:].dot(M[l][:]))*wMat\n",
    "                for j in range(1,l+1):\n",
    "                    temp1 -= (math.comb(l,j)*wders[0][j])*R[:][:][k][l-j]\n",
    "                for i in range(1,k+1):\n",
    "                    temp1 -= (math.comb(k,i)*wders[i][0])*R[:][:][k-i][l]\n",
    "                    temp2 = np.zeros((p,q))\n",
    "                    for j in range (1,l+1):\n",
    "                        temp2 += (math.comb(l,j)*wders[i][j])*R[:][:][k-i][l-j]\n",
    "                    temp1 -= math.comb(k,i)*temp2\n",
    "                R[:][:][k][l] = temp1/wders[0][0]\n",
    "        return R"
   ]
  },
  {
   "cell_type": "code",
   "execution_count": 112,
   "metadata": {
    "collapsed": false
   },
   "outputs": [],
   "source": [
    "pf = patchFamily2D('igampm_10x5_')"
   ]
  },
  {
   "cell_type": "code",
   "execution_count": 113,
   "metadata": {
    "collapsed": false
   },
   "outputs": [
    {
     "data": {
      "text/plain": [
       "1"
      ]
     },
     "execution_count": 113,
     "metadata": {},
     "output_type": "execute_result"
    }
   ],
   "source": [
    "# Number of Patches\n",
    "pf.np"
   ]
  },
  {
   "cell_type": "code",
   "execution_count": 114,
   "metadata": {
    "collapsed": false
   },
   "outputs": [
    {
     "data": {
      "text/plain": [
       "[[array([0.  , 0.  , 0.  , 0.05, 0.1 , 0.15, 0.2 , 0.25, 0.3 , 0.35, 0.4 ,\n",
       "         0.45, 0.5 , 0.55, 0.6 , 0.65, 0.7 , 0.75, 0.8 , 0.85, 0.9 , 0.95,\n",
       "         1.  , 1.  , 1.  ]),\n",
       "  array([0. , 0. , 0. , 0.1, 0.2, 0.3, 0.4, 0.5, 0.6, 0.7, 0.8, 0.9, 1. ,\n",
       "         1. , 1. ])]]"
      ]
     },
     "execution_count": 114,
     "metadata": {},
     "output_type": "execute_result"
    }
   ],
   "source": [
    "# Knot Vectors:\n",
    "pf.U"
   ]
  },
  {
   "cell_type": "code",
   "execution_count": 115,
   "metadata": {
    "collapsed": false
   },
   "outputs": [
    {
     "data": {
      "text/plain": [
       "array([[ 0.  ,  0.  ,  0.  ,  1.  ],\n",
       "       [ 0.25,  0.  ,  0.  ,  1.  ],\n",
       "       [ 0.75,  0.  ,  0.  ,  1.  ],\n",
       "       ...,\n",
       "       [ 9.25,  5.  ,  0.  ,  1.  ],\n",
       "       [ 9.75,  5.  ,  0.  ,  1.  ],\n",
       "       [10.  ,  5.  ,  0.  ,  1.  ]])"
      ]
     },
     "execution_count": 115,
     "metadata": {},
     "output_type": "execute_result"
    }
   ],
   "source": [
    "# Control Points:\n",
    "pf.CP[0]"
   ]
  },
  {
   "cell_type": "code",
   "execution_count": 116,
   "metadata": {
    "collapsed": false
   },
   "outputs": [
    {
     "data": {
      "text/plain": [
       "array([2, 2])"
      ]
     },
     "execution_count": 116,
     "metadata": {},
     "output_type": "execute_result"
    }
   ],
   "source": [
    "# Order:\n",
    "pf.p[0]"
   ]
  },
  {
   "cell_type": "code",
   "execution_count": 117,
   "metadata": {
    "collapsed": false
   },
   "outputs": [
    {
     "data": {
      "text/plain": [
       "array([22, 12])"
      ]
     },
     "execution_count": 117,
     "metadata": {},
     "output_type": "execute_result"
    }
   ],
   "source": [
    "# Number of Shape Functions:\n",
    "pf.nsf[0]"
   ]
  },
  {
   "cell_type": "code",
   "execution_count": 118,
   "metadata": {
    "collapsed": false
   },
   "outputs": [
    {
     "data": {
      "text/plain": [
       "array([[ 0,  0],\n",
       "       [ 1,  0],\n",
       "       [ 2,  0],\n",
       "       [ 3,  0],\n",
       "       [ 4,  0],\n",
       "       [ 5,  0],\n",
       "       [ 6,  0],\n",
       "       [ 7,  0],\n",
       "       [ 8,  0],\n",
       "       [ 9,  0],\n",
       "       [10,  0],\n",
       "       [11,  0],\n",
       "       [12,  0],\n",
       "       [13,  0],\n",
       "       [14,  0],\n",
       "       [15,  0],\n",
       "       [16,  0],\n",
       "       [17,  0],\n",
       "       [18,  0],\n",
       "       [19,  0],\n",
       "       [20,  0],\n",
       "       [21,  0],\n",
       "       [ 0,  1],\n",
       "       [ 1,  1],\n",
       "       [ 2,  1],\n",
       "       [ 3,  1],\n",
       "       [ 4,  1],\n",
       "       [ 5,  1],\n",
       "       [ 6,  1],\n",
       "       [ 7,  1],\n",
       "       [ 8,  1],\n",
       "       [ 9,  1],\n",
       "       [10,  1],\n",
       "       [11,  1],\n",
       "       [12,  1],\n",
       "       [13,  1],\n",
       "       [14,  1],\n",
       "       [15,  1],\n",
       "       [16,  1],\n",
       "       [17,  1],\n",
       "       [18,  1],\n",
       "       [19,  1],\n",
       "       [20,  1],\n",
       "       [21,  1],\n",
       "       [ 0,  2],\n",
       "       [ 1,  2],\n",
       "       [ 2,  2],\n",
       "       [ 3,  2],\n",
       "       [ 4,  2],\n",
       "       [ 5,  2],\n",
       "       [ 6,  2],\n",
       "       [ 7,  2],\n",
       "       [ 8,  2],\n",
       "       [ 9,  2],\n",
       "       [10,  2],\n",
       "       [11,  2],\n",
       "       [12,  2],\n",
       "       [13,  2],\n",
       "       [14,  2],\n",
       "       [15,  2],\n",
       "       [16,  2],\n",
       "       [17,  2],\n",
       "       [18,  2],\n",
       "       [19,  2],\n",
       "       [20,  2],\n",
       "       [21,  2],\n",
       "       [ 0,  3],\n",
       "       [ 1,  3],\n",
       "       [ 2,  3],\n",
       "       [ 3,  3],\n",
       "       [ 4,  3],\n",
       "       [ 5,  3],\n",
       "       [ 6,  3],\n",
       "       [ 7,  3],\n",
       "       [ 8,  3],\n",
       "       [ 9,  3],\n",
       "       [10,  3],\n",
       "       [11,  3],\n",
       "       [12,  3],\n",
       "       [13,  3],\n",
       "       [14,  3],\n",
       "       [15,  3],\n",
       "       [16,  3],\n",
       "       [17,  3],\n",
       "       [18,  3],\n",
       "       [19,  3],\n",
       "       [20,  3],\n",
       "       [21,  3],\n",
       "       [ 0,  4],\n",
       "       [ 1,  4],\n",
       "       [ 2,  4],\n",
       "       [ 3,  4],\n",
       "       [ 4,  4],\n",
       "       [ 5,  4],\n",
       "       [ 6,  4],\n",
       "       [ 7,  4],\n",
       "       [ 8,  4],\n",
       "       [ 9,  4],\n",
       "       [10,  4],\n",
       "       [11,  4],\n",
       "       [12,  4],\n",
       "       [13,  4],\n",
       "       [14,  4],\n",
       "       [15,  4],\n",
       "       [16,  4],\n",
       "       [17,  4],\n",
       "       [18,  4],\n",
       "       [19,  4],\n",
       "       [20,  4],\n",
       "       [21,  4],\n",
       "       [ 0,  5],\n",
       "       [ 1,  5],\n",
       "       [ 2,  5],\n",
       "       [ 3,  5],\n",
       "       [ 4,  5],\n",
       "       [ 5,  5],\n",
       "       [ 6,  5],\n",
       "       [ 7,  5],\n",
       "       [ 8,  5],\n",
       "       [ 9,  5],\n",
       "       [10,  5],\n",
       "       [11,  5],\n",
       "       [12,  5],\n",
       "       [13,  5],\n",
       "       [14,  5],\n",
       "       [15,  5],\n",
       "       [16,  5],\n",
       "       [17,  5],\n",
       "       [18,  5],\n",
       "       [19,  5],\n",
       "       [20,  5],\n",
       "       [21,  5],\n",
       "       [ 0,  6],\n",
       "       [ 1,  6],\n",
       "       [ 2,  6],\n",
       "       [ 3,  6],\n",
       "       [ 4,  6],\n",
       "       [ 5,  6],\n",
       "       [ 6,  6],\n",
       "       [ 7,  6],\n",
       "       [ 8,  6],\n",
       "       [ 9,  6],\n",
       "       [10,  6],\n",
       "       [11,  6],\n",
       "       [12,  6],\n",
       "       [13,  6],\n",
       "       [14,  6],\n",
       "       [15,  6],\n",
       "       [16,  6],\n",
       "       [17,  6],\n",
       "       [18,  6],\n",
       "       [19,  6],\n",
       "       [20,  6],\n",
       "       [21,  6],\n",
       "       [ 0,  7],\n",
       "       [ 1,  7],\n",
       "       [ 2,  7],\n",
       "       [ 3,  7],\n",
       "       [ 4,  7],\n",
       "       [ 5,  7],\n",
       "       [ 6,  7],\n",
       "       [ 7,  7],\n",
       "       [ 8,  7],\n",
       "       [ 9,  7],\n",
       "       [10,  7],\n",
       "       [11,  7],\n",
       "       [12,  7],\n",
       "       [13,  7],\n",
       "       [14,  7],\n",
       "       [15,  7],\n",
       "       [16,  7],\n",
       "       [17,  7],\n",
       "       [18,  7],\n",
       "       [19,  7],\n",
       "       [20,  7],\n",
       "       [21,  7],\n",
       "       [ 0,  8],\n",
       "       [ 1,  8],\n",
       "       [ 2,  8],\n",
       "       [ 3,  8],\n",
       "       [ 4,  8],\n",
       "       [ 5,  8],\n",
       "       [ 6,  8],\n",
       "       [ 7,  8],\n",
       "       [ 8,  8],\n",
       "       [ 9,  8],\n",
       "       [10,  8],\n",
       "       [11,  8],\n",
       "       [12,  8],\n",
       "       [13,  8],\n",
       "       [14,  8],\n",
       "       [15,  8],\n",
       "       [16,  8],\n",
       "       [17,  8],\n",
       "       [18,  8],\n",
       "       [19,  8],\n",
       "       [20,  8],\n",
       "       [21,  8],\n",
       "       [ 0,  9],\n",
       "       [ 1,  9],\n",
       "       [ 2,  9],\n",
       "       [ 3,  9],\n",
       "       [ 4,  9],\n",
       "       [ 5,  9],\n",
       "       [ 6,  9],\n",
       "       [ 7,  9],\n",
       "       [ 8,  9],\n",
       "       [ 9,  9],\n",
       "       [10,  9],\n",
       "       [11,  9],\n",
       "       [12,  9],\n",
       "       [13,  9],\n",
       "       [14,  9],\n",
       "       [15,  9],\n",
       "       [16,  9],\n",
       "       [17,  9],\n",
       "       [18,  9],\n",
       "       [19,  9],\n",
       "       [20,  9],\n",
       "       [21,  9],\n",
       "       [ 0, 10],\n",
       "       [ 1, 10],\n",
       "       [ 2, 10],\n",
       "       [ 3, 10],\n",
       "       [ 4, 10],\n",
       "       [ 5, 10],\n",
       "       [ 6, 10],\n",
       "       [ 7, 10],\n",
       "       [ 8, 10],\n",
       "       [ 9, 10],\n",
       "       [10, 10],\n",
       "       [11, 10],\n",
       "       [12, 10],\n",
       "       [13, 10],\n",
       "       [14, 10],\n",
       "       [15, 10],\n",
       "       [16, 10],\n",
       "       [17, 10],\n",
       "       [18, 10],\n",
       "       [19, 10],\n",
       "       [20, 10],\n",
       "       [21, 10],\n",
       "       [ 0, 11],\n",
       "       [ 1, 11],\n",
       "       [ 2, 11],\n",
       "       [ 3, 11],\n",
       "       [ 4, 11],\n",
       "       [ 5, 11],\n",
       "       [ 6, 11],\n",
       "       [ 7, 11],\n",
       "       [ 8, 11],\n",
       "       [ 9, 11],\n",
       "       [10, 11],\n",
       "       [11, 11],\n",
       "       [12, 11],\n",
       "       [13, 11],\n",
       "       [14, 11],\n",
       "       [15, 11],\n",
       "       [16, 11],\n",
       "       [17, 11],\n",
       "       [18, 11],\n",
       "       [19, 11],\n",
       "       [20, 11],\n",
       "       [21, 11]])"
      ]
     },
     "execution_count": 118,
     "metadata": {},
     "output_type": "execute_result"
    }
   ],
   "source": [
    "pf.INC[0]"
   ]
  },
  {
   "cell_type": "code",
   "execution_count": 126,
   "metadata": {
    "collapsed": false
   },
   "outputs": [
    {
     "data": {
      "text/plain": [
       "array([[ 46,  45,  44, ...,   2,   1,   0],\n",
       "       [ 47,  46,  45, ...,   3,   2,   1],\n",
       "       [ 48,  47,  46, ...,   4,   3,   2],\n",
       "       ...,\n",
       "       [261, 260, 259, ..., 217, 216, 215],\n",
       "       [262, 261, 260, ..., 218, 217, 216],\n",
       "       [263, 262, 261, ..., 219, 218, 217]])"
      ]
     },
     "execution_count": 126,
     "metadata": {},
     "output_type": "execute_result"
    }
   ],
   "source": [
    "pf.IEN[0]"
   ]
  },
  {
   "cell_type": "code",
   "execution_count": 123,
   "metadata": {
    "collapsed": false
   },
   "outputs": [
    {
     "data": {
      "text/plain": [
       "array([[ 9.25,  4.25,  0.  ,  1.  ],\n",
       "       [ 9.75,  4.25,  0.  ,  1.  ],\n",
       "       [10.  ,  4.25,  0.  ,  1.  ],\n",
       "       [ 9.25,  4.75,  0.  ,  1.  ],\n",
       "       [ 9.75,  4.75,  0.  ,  1.  ],\n",
       "       [10.  ,  4.75,  0.  ,  1.  ],\n",
       "       [ 9.25,  5.  ,  0.  ,  1.  ],\n",
       "       [ 9.75,  5.  ,  0.  ,  1.  ],\n",
       "       [10.  ,  5.  ,  0.  ,  1.  ]])"
      ]
     },
     "execution_count": 123,
     "metadata": {},
     "output_type": "execute_result"
    }
   ],
   "source": [
    "cp = pf.getCP(0,199)\n",
    "cp"
   ]
  },
  {
   "cell_type": "code",
   "execution_count": 128,
   "metadata": {
    "collapsed": false
   },
   "outputs": [
    {
     "data": {
      "text/plain": [
       "array([[1., 1., 1.],\n",
       "       [1., 1., 1.],\n",
       "       [1., 1., 1.]])"
      ]
     },
     "execution_count": 128,
     "metadata": {},
     "output_type": "execute_result"
    }
   ],
   "source": [
    "wMat = np.reshape(cp[:,3],[pf.p[0][0]+1,pf.p[0][1]+1])\n",
    "wMat"
   ]
  },
  {
   "cell_type": "code",
   "execution_count": 134,
   "metadata": {
    "collapsed": false
   },
   "outputs": [
    {
     "data": {
      "text/plain": [
       "array([[1, 2, 3, 4, 5],\n",
       "       [3, 5, 2, 6, 7],\n",
       "       [1, 7, 3, 9, 5],\n",
       "       [2, 4, 5, 6, 7],\n",
       "       [1, 3, 7, 8, 4],\n",
       "       [3, 5, 6, 2, 8]])"
      ]
     },
     "execution_count": 134,
     "metadata": {},
     "output_type": "execute_result"
    }
   ],
   "source": [
    "AA = np.array([[1, 2, 3, 4, 5], [3, 5, 2, 6, 7],[1, 7, 3, 9, 5],[2, 4, 5, 6, 7],[1, 3, 7, 8, 4],[3, 5, 6, 2, 8]])\n",
    "AA"
   ]
  },
  {
   "cell_type": "code",
   "execution_count": 137,
   "metadata": {
    "collapsed": false
   },
   "outputs": [
    {
     "data": {
      "text/plain": [
       "array([2, 4, 5, 6, 7])"
      ]
     },
     "execution_count": 137,
     "metadata": {},
     "output_type": "execute_result"
    }
   ],
   "source": [
    "(AA[:][3])"
   ]
  },
  {
   "cell_type": "code",
   "execution_count": null,
   "metadata": {
    "collapsed": true
   },
   "outputs": [],
   "source": []
  }
 ],
 "metadata": {
  "anaconda-cloud": {},
  "kernelspec": {
   "display_name": "Python [Root]",
   "language": "python",
   "name": "Python [Root]"
  },
  "language_info": {
   "codemirror_mode": {
    "name": "ipython",
    "version": 3
   },
   "file_extension": ".py",
   "mimetype": "text/x-python",
   "name": "python",
   "nbconvert_exporter": "python",
   "pygments_lexer": "ipython3",
   "version": "3.7.11"
  }
 },
 "nbformat": 4,
 "nbformat_minor": 0
}
