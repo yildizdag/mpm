{
 "cells": [
  {
   "cell_type": "code",
   "execution_count": 9,
   "metadata": {
    "collapsed": true
   },
   "outputs": [],
   "source": [
    "import numpy as np"
   ]
  },
  {
   "cell_type": "code",
   "execution_count": 16,
   "metadata": {
    "collapsed": false
   },
   "outputs": [],
   "source": [
    "def findSpan(n,p,u,U):\n",
    "    if (u == U[n+1]):\n",
    "        return n\n",
    "    low = p\n",
    "    high = n+1\n",
    "    mid = int((low+high)/2)\n",
    "    while (u<U[mid] or u>U[mid+1]):\n",
    "        if (u<U[mid]):\n",
    "            high = mid\n",
    "        else:\n",
    "            low = mid\n",
    "        mid = int(np.floor((low+high)/2))\n",
    "    return mid\n",
    "\n",
    "def dersBasisFuns(i,u,p,n,U):\n",
    "    left = np.zeros(p+1)\n",
    "    right = np.zeros(p+1)\n",
    "    ndu = np.zeros((p+1,p+1))\n",
    "    a = np.zeros((2,p+1))\n",
    "    ders = np.zeros((n+1,p+1))\n",
    "    #\n",
    "    ndu[0][0] = 1.0\n",
    "    for j in range(1,p+1):\n",
    "        left[j] = u-U[i+1-j]\n",
    "        right[j] = U[i+j]-u\n",
    "        saved = 0.0\n",
    "        for r in range(0,j):\n",
    "            ndu[j][r] = right[r+1]+left[j-r]\n",
    "            temp = ndu[r][j-1]/ndu[j][r]\n",
    "            ndu[r][j] = saved+right[r+1]*temp\n",
    "            saved = left[j-r]*temp\n",
    "        ndu[j][j] = saved\n",
    "    for j in range(0,p+1):\n",
    "        ders[0][j] = ndu[j][p]\n",
    "    for r in range(0,p+1):\n",
    "        s1 = 0\n",
    "        s2 = 1\n",
    "        a[0][0] = 1.0\n",
    "        for k in range(1,n+1):\n",
    "            d =0.0\n",
    "            rk = r-k\n",
    "            pk = p-k\n",
    "            if (r >= k):\n",
    "                a[s2][0] = a[s1][0]/ndu[pk+1][rk]\n",
    "                d = a[s2][0]*ndu[rk][pk]\n",
    "            if (rk >= -1):\n",
    "                j1 = 1\n",
    "            else:\n",
    "                j1 = -rk\n",
    "            if (r-1 <= pk):\n",
    "                j2 = k-1\n",
    "            else:\n",
    "                j2 = p-r\n",
    "            for j in range(j1,j2+1):\n",
    "                a[s2][j] = (a[s1][j]-a[s1][j-1])/ndu[pk+1][rk+j]\n",
    "                d += a[s2][j]*ndu[rk+j][pk]\n",
    "            if (r <= pk):\n",
    "                a[s2][k] = -a[s1][k-1]/ndu[pk+1][r]\n",
    "                d += a[s2][k]*ndu[r][pk]\n",
    "            ders[k][r] = d\n",
    "            j = s1\n",
    "            s1 = s2\n",
    "            s2 = j\n",
    "    r = p\n",
    "    for k in range(1,n+1):\n",
    "        for j in range(0,p+1):\n",
    "            ders[k][j] *= r\n",
    "        r *= (p-k)\n",
    "    return ders\n",
    "                    \n",
    "                    \n",
    "        "
   ]
  },
  {
   "cell_type": "code",
   "execution_count": 17,
   "metadata": {
    "collapsed": true
   },
   "outputs": [],
   "source": [
    "U = np.array([0.,0.,0.,0.,0.25,0.5,0.75,1.0,1.0,1.0,1.0])"
   ]
  },
  {
   "cell_type": "code",
   "execution_count": 18,
   "metadata": {
    "collapsed": false
   },
   "outputs": [
    {
     "data": {
      "text/plain": [
       "0.0"
      ]
     },
     "execution_count": 18,
     "metadata": {},
     "output_type": "execute_result"
    }
   ],
   "source": [
    "U[0]"
   ]
  },
  {
   "cell_type": "code",
   "execution_count": 19,
   "metadata": {
    "collapsed": false
   },
   "outputs": [],
   "source": [
    "#Parametric Location\n",
    "u = 0.6\n",
    "#Degree\n",
    "p = 3\n",
    "# of functions\n",
    "n = 7\n",
    "#Knot Index\n",
    "i = findSpan(n,p,u,U)"
   ]
  },
  {
   "cell_type": "code",
   "execution_count": 20,
   "metadata": {
    "collapsed": false
   },
   "outputs": [],
   "source": [
    "U = np.array([0,0,0,1,2,3,4,4,5,5,5])\n",
    "u = 5./2.\n",
    "p = 2\n",
    "n = len(U)-p-1\n",
    "i = findSpan(n,p,u,U)\n",
    "nd = 2\n",
    "ders = dersBasisFuns(i,u,p,nd,U)"
   ]
  },
  {
   "cell_type": "code",
   "execution_count": 21,
   "metadata": {
    "collapsed": false
   },
   "outputs": [
    {
     "data": {
      "text/plain": [
       "array([[ 0.125,  0.75 ,  0.125],\n",
       "       [-0.5  ,  0.   ,  0.5  ],\n",
       "       [ 1.   , -2.   ,  1.   ]])"
      ]
     },
     "execution_count": 21,
     "metadata": {},
     "output_type": "execute_result"
    }
   ],
   "source": [
    "ders"
   ]
  },
  {
   "cell_type": "code",
   "execution_count": null,
   "metadata": {
    "collapsed": true
   },
   "outputs": [],
   "source": []
  }
 ],
 "metadata": {
  "anaconda-cloud": {},
  "kernelspec": {
   "display_name": "Python [Root]",
   "language": "python",
   "name": "Python [Root]"
  },
  "language_info": {
   "codemirror_mode": {
    "name": "ipython",
    "version": 3
   },
   "file_extension": ".py",
   "mimetype": "text/x-python",
   "name": "python",
   "nbconvert_exporter": "python",
   "pygments_lexer": "ipython3",
   "version": "3.7.11"
  }
 },
 "nbformat": 4,
 "nbformat_minor": 0
}
