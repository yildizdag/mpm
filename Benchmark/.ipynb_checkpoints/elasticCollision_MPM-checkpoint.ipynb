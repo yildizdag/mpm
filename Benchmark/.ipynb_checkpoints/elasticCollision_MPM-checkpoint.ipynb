{
 "cells": [
  {
   "cell_type": "markdown",
   "metadata": {},
   "source": [
    "# Benchmark: Elastic Collision with Material Point Method"
   ]
  },
  {
   "cell_type": "markdown",
   "metadata": {},
   "source": [
    "## Particle Generation:"
   ]
  },
  {
   "cell_type": "code",
   "execution_count": 48,
   "metadata": {
    "collapsed": false
   },
   "outputs": [],
   "source": [
    "import numpy as np\n",
    "from scipy.spatial import Delaunay\n",
    "n = 60\n",
    "phi = (2*np.pi/n)*np.linspace(0,n,n+1)\n",
    "pv1 = np.transpose(np.array([0.2*np.cos(phi), 0.2*np.sin(phi)]))"
   ]
  },
  {
   "cell_type": "code",
   "execution_count": 49,
   "metadata": {
    "collapsed": false
   },
   "outputs": [
    {
     "data": {
      "text/plain": [
       "array([[ 2.00000000e-01,  0.00000000e+00],\n",
       "       [ 1.98904379e-01,  2.09056927e-02],\n",
       "       [ 1.95629520e-01,  4.15823382e-02],\n",
       "       [ 1.90211303e-01,  6.18033989e-02],\n",
       "       [ 1.82709092e-01,  8.13473286e-02],\n",
       "       [ 1.73205081e-01,  1.00000000e-01],\n",
       "       [ 1.61803399e-01,  1.17557050e-01],\n",
       "       [ 1.48628965e-01,  1.33826121e-01],\n",
       "       [ 1.33826121e-01,  1.48628965e-01],\n",
       "       [ 1.17557050e-01,  1.61803399e-01],\n",
       "       [ 1.00000000e-01,  1.73205081e-01],\n",
       "       [ 8.13473286e-02,  1.82709092e-01],\n",
       "       [ 6.18033989e-02,  1.90211303e-01],\n",
       "       [ 4.15823382e-02,  1.95629520e-01],\n",
       "       [ 2.09056927e-02,  1.98904379e-01],\n",
       "       [ 1.22464680e-17,  2.00000000e-01],\n",
       "       [-2.09056927e-02,  1.98904379e-01],\n",
       "       [-4.15823382e-02,  1.95629520e-01],\n",
       "       [-6.18033989e-02,  1.90211303e-01],\n",
       "       [-8.13473286e-02,  1.82709092e-01],\n",
       "       [-1.00000000e-01,  1.73205081e-01],\n",
       "       [-1.17557050e-01,  1.61803399e-01],\n",
       "       [-1.33826121e-01,  1.48628965e-01],\n",
       "       [-1.48628965e-01,  1.33826121e-01],\n",
       "       [-1.61803399e-01,  1.17557050e-01],\n",
       "       [-1.73205081e-01,  1.00000000e-01],\n",
       "       [-1.82709092e-01,  8.13473286e-02],\n",
       "       [-1.90211303e-01,  6.18033989e-02],\n",
       "       [-1.95629520e-01,  4.15823382e-02],\n",
       "       [-1.98904379e-01,  2.09056927e-02],\n",
       "       [-2.00000000e-01,  2.44929360e-17],\n",
       "       [-1.98904379e-01, -2.09056927e-02],\n",
       "       [-1.95629520e-01, -4.15823382e-02],\n",
       "       [-1.90211303e-01, -6.18033989e-02],\n",
       "       [-1.82709092e-01, -8.13473286e-02],\n",
       "       [-1.73205081e-01, -1.00000000e-01],\n",
       "       [-1.61803399e-01, -1.17557050e-01],\n",
       "       [-1.48628965e-01, -1.33826121e-01],\n",
       "       [-1.33826121e-01, -1.48628965e-01],\n",
       "       [-1.17557050e-01, -1.61803399e-01],\n",
       "       [-1.00000000e-01, -1.73205081e-01],\n",
       "       [-8.13473286e-02, -1.82709092e-01],\n",
       "       [-6.18033989e-02, -1.90211303e-01],\n",
       "       [-4.15823382e-02, -1.95629520e-01],\n",
       "       [-2.09056927e-02, -1.98904379e-01],\n",
       "       [-3.67394040e-17, -2.00000000e-01],\n",
       "       [ 2.09056927e-02, -1.98904379e-01],\n",
       "       [ 4.15823382e-02, -1.95629520e-01],\n",
       "       [ 6.18033989e-02, -1.90211303e-01],\n",
       "       [ 8.13473286e-02, -1.82709092e-01],\n",
       "       [ 1.00000000e-01, -1.73205081e-01],\n",
       "       [ 1.17557050e-01, -1.61803399e-01],\n",
       "       [ 1.33826121e-01, -1.48628965e-01],\n",
       "       [ 1.48628965e-01, -1.33826121e-01],\n",
       "       [ 1.61803399e-01, -1.17557050e-01],\n",
       "       [ 1.73205081e-01, -1.00000000e-01],\n",
       "       [ 1.82709092e-01, -8.13473286e-02],\n",
       "       [ 1.90211303e-01, -6.18033989e-02],\n",
       "       [ 1.95629520e-01, -4.15823382e-02],\n",
       "       [ 1.98904379e-01, -2.09056927e-02],\n",
       "       [ 2.00000000e-01, -4.89858720e-17]])"
      ]
     },
     "execution_count": 49,
     "metadata": {},
     "output_type": "execute_result"
    }
   ],
   "source": [
    "pv1"
   ]
  },
  {
   "cell_type": "code",
   "execution_count": 53,
   "metadata": {
    "collapsed": false
   },
   "outputs": [
    {
     "data": {
      "text/plain": [
       "array([[ 2.00000000e-01,  0.00000000e+00],\n",
       "       [ 1.98904379e-01,  2.09056927e-02],\n",
       "       [ 1.95629520e-01,  4.15823382e-02],\n",
       "       [ 1.90211303e-01,  6.18033989e-02],\n",
       "       [ 1.82709092e-01,  8.13473286e-02],\n",
       "       [ 1.73205081e-01,  1.00000000e-01],\n",
       "       [ 1.61803399e-01,  1.17557050e-01],\n",
       "       [ 1.48628965e-01,  1.33826121e-01],\n",
       "       [ 1.33826121e-01,  1.48628965e-01],\n",
       "       [ 1.17557050e-01,  1.61803399e-01],\n",
       "       [ 1.00000000e-01,  1.73205081e-01],\n",
       "       [ 8.13473286e-02,  1.82709092e-01],\n",
       "       [ 6.18033989e-02,  1.90211303e-01],\n",
       "       [ 4.15823382e-02,  1.95629520e-01],\n",
       "       [ 2.09056927e-02,  1.98904379e-01],\n",
       "       [ 1.22464680e-17,  2.00000000e-01],\n",
       "       [-2.09056927e-02,  1.98904379e-01],\n",
       "       [-4.15823382e-02,  1.95629520e-01],\n",
       "       [-6.18033989e-02,  1.90211303e-01],\n",
       "       [-8.13473286e-02,  1.82709092e-01],\n",
       "       [-1.00000000e-01,  1.73205081e-01],\n",
       "       [-1.17557050e-01,  1.61803399e-01],\n",
       "       [-1.33826121e-01,  1.48628965e-01],\n",
       "       [-1.48628965e-01,  1.33826121e-01],\n",
       "       [-1.61803399e-01,  1.17557050e-01],\n",
       "       [-1.73205081e-01,  1.00000000e-01],\n",
       "       [-1.82709092e-01,  8.13473286e-02],\n",
       "       [-1.90211303e-01,  6.18033989e-02],\n",
       "       [-1.95629520e-01,  4.15823382e-02],\n",
       "       [-1.98904379e-01,  2.09056927e-02],\n",
       "       [-2.00000000e-01,  2.44929360e-17],\n",
       "       [-1.98904379e-01, -2.09056927e-02],\n",
       "       [-1.95629520e-01, -4.15823382e-02],\n",
       "       [-1.90211303e-01, -6.18033989e-02],\n",
       "       [-1.82709092e-01, -8.13473286e-02],\n",
       "       [-1.73205081e-01, -1.00000000e-01],\n",
       "       [-1.61803399e-01, -1.17557050e-01],\n",
       "       [-1.48628965e-01, -1.33826121e-01],\n",
       "       [-1.33826121e-01, -1.48628965e-01],\n",
       "       [-1.17557050e-01, -1.61803399e-01],\n",
       "       [-1.00000000e-01, -1.73205081e-01],\n",
       "       [-8.13473286e-02, -1.82709092e-01],\n",
       "       [-6.18033989e-02, -1.90211303e-01],\n",
       "       [-4.15823382e-02, -1.95629520e-01],\n",
       "       [-2.09056927e-02, -1.98904379e-01],\n",
       "       [-3.67394040e-17, -2.00000000e-01],\n",
       "       [ 2.09056927e-02, -1.98904379e-01],\n",
       "       [ 4.15823382e-02, -1.95629520e-01],\n",
       "       [ 6.18033989e-02, -1.90211303e-01],\n",
       "       [ 8.13473286e-02, -1.82709092e-01],\n",
       "       [ 1.00000000e-01, -1.73205081e-01],\n",
       "       [ 1.17557050e-01, -1.61803399e-01],\n",
       "       [ 1.33826121e-01, -1.48628965e-01],\n",
       "       [ 1.48628965e-01, -1.33826121e-01],\n",
       "       [ 1.61803399e-01, -1.17557050e-01],\n",
       "       [ 1.73205081e-01, -1.00000000e-01],\n",
       "       [ 1.82709092e-01, -8.13473286e-02],\n",
       "       [ 1.90211303e-01, -6.18033989e-02],\n",
       "       [ 1.95629520e-01, -4.15823382e-02],\n",
       "       [ 1.98904379e-01, -2.09056927e-02],\n",
       "       [ 2.00000000e-01, -4.89858720e-17],\n",
       "       [ 1.00000000e+01,  2.00000000e+01]])"
      ]
     },
     "execution_count": 53,
     "metadata": {},
     "output_type": "execute_result"
    }
   ],
   "source": [
    "np.append(pv1,[[10,20]],axis=0)"
   ]
  },
  {
   "cell_type": "code",
   "execution_count": 64,
   "metadata": {
    "collapsed": false
   },
   "outputs": [
    {
     "data": {
      "text/plain": [
       "0.19562952014676116"
      ]
     },
     "execution_count": 64,
     "metadata": {},
     "output_type": "execute_result"
    }
   ],
   "source": [
    "pv1[2,0]"
   ]
  },
  {
   "cell_type": "code",
   "execution_count": null,
   "metadata": {
    "collapsed": true
   },
   "outputs": [],
   "source": [
    "def pmesh(pv,hmax,nref):\n",
    "    edge = len(pv)-1\n",
    "    for i in range(0,edge):\n",
    "        d = np.sqrt((pv[i+1,0]-pv[i,0])**2+(pv[i+1,1]-pv[i,1])**2)\n",
    "        if hmax<d:\n",
    "            n = np.ceil(d/hmax)\n",
    "            nx = np.linspace(pv[i,0],pv[i+1,0],n+1)\n",
    "            ny = np.linspace(pv[i,1],pv[i+1,1],n+1)\n",
    "            for j in range(0,len(nx[1:-1])):\n",
    "                pv = np.append(pv,[[nx[j+1],ny[j+1]]],axis=0)\n",
    "    poly = pv[0:edge+1,:]\n",
    "    pv = np.unique(pv,axis=0)\n",
    "    a = hmax**2\n",
    "    p = 0\n",
    "    while (hmax**2/2.0)<a:\n",
    "        tri = Delaunayn(pv)\n",
    "        conn = tri.simplices\n",
    "        A = np.zeros(len(conn))\n",
    "        for in range(0,len(conn)):\n",
    "            A[i] = np.abs(0.5*(pv[conn[i,0],0]*(pv[conn[i,1],1]-pv[conn[i,2],1])+pv[conn[i,1],0]*(pv[conn[i,2],1]-pv[conn[i,0],1])+pv[conn[i,2],0]*(pv[conn[i,0],1]-pv[conn[i,1],1])))\n",
    "        C = np.zeros((2,len(conn)))\n",
    "        D = np.zeros((2,len(conn)))\n",
    "        for j in range(0,len(conn)):\n",
    "            K=np.array([[2*(pv[conn[j,0],0]-pv[conn[j,1],0]), 2*(pv[conn[j,0],1]-pv[conn[j,2],1])] , [2*(pv[conn[j,1],0]-pv[conn[j,2],0]), 2*(pv[conn[j,1],2]-pv[conn[j,2],1])]])\n",
    "            F=np.array([((pv[conn[j,0],0])**2-(pv[conn[j,1],0])**2)+((pv[conn[j,0],1])**2-(pv[tri[j,1],1])**2)] , [((pv[conn[j,1],0])**2-(pv[conn[j,2],1])**2)+((pv[conn[j,1],1])**2-(pv[conn[j,2],1])**2)])\n",
    "            c = np.linalg.inv(K).dot(F)\n",
    "            C[:,j] = [c[0], c[1]]\n",
    "            D[:,j] = [np.mean([(pv[conn[j,0],0]),(pv[conn[j,1],0]),(pv[conn[j,2],0])]) , np.mean([(pv[conn[j,0],1]),(pv[conn[j,1],1]),(pv[conn[j,2],1])])]\n",
    "        p = path.Path(poly)\n",
    "        in_check = p.contains_points(D)\n",
    "        delete = np.where(in_check == False)\n",
    "        "
   ]
  },
  {
   "cell_type": "code",
   "execution_count": 43,
   "metadata": {
    "collapsed": true
   },
   "outputs": [],
   "source": [
    "import numpy as np\n",
    "points = np.array([[0, 0], [1, 0], [1, 1], [0, 1]])\n",
    "\n",
    "from scipy.spatial import Delaunayn\n",
    "tri = Delaunayn(points)\n",
    "\n",
    "import matplotlib.pyplot as plt\n",
    "plt.triplot(points[:,0], points[:,1], tri.simplices.copy())\n",
    "plt.plot(points[:,0], points[:,1], 'o')\n",
    "plt.show()"
   ]
  },
  {
   "cell_type": "code",
   "execution_count": 41,
   "metadata": {
    "collapsed": false
   },
   "outputs": [
    {
     "data": {
      "text/plain": [
       "<scipy.spatial.qhull.Delaunay at 0x1091da710>"
      ]
     },
     "execution_count": 41,
     "metadata": {},
     "output_type": "execute_result"
    }
   ],
   "source": [
    "tri"
   ]
  },
  {
   "cell_type": "code",
   "execution_count": 44,
   "metadata": {
    "collapsed": false
   },
   "outputs": [
    {
     "data": {
      "text/plain": [
       "array([[2, 3, 1],\n",
       "       [1, 3, 0]], dtype=int32)"
      ]
     },
     "execution_count": 44,
     "metadata": {},
     "output_type": "execute_result"
    }
   ],
   "source": [
    "tri.simplices"
   ]
  },
  {
   "cell_type": "code",
   "execution_count": 47,
   "metadata": {
    "collapsed": false
   },
   "outputs": [
    {
     "data": {
      "text/plain": [
       "2"
      ]
     },
     "execution_count": 47,
     "metadata": {},
     "output_type": "execute_result"
    }
   ],
   "source": [
    "np.ndim(tri.simplices)"
   ]
  },
  {
   "cell_type": "code",
   "execution_count": 35,
   "metadata": {
    "collapsed": false
   },
   "outputs": [],
   "source": [
    "from matplotlib import path\n",
    "import numpy as np\n",
    "p = path.Path([[0,0], [0, 1], [1, 1], [1, 0],[0,0]])  # square with legs length 1 and bottom left corner at the origin\n",
    "in_check = p.contains_points([[.5, .5],[2.0,2.0],[0.25,0.25],[3.,1.]])"
   ]
  },
  {
   "cell_type": "code",
   "execution_count": 38,
   "metadata": {
    "collapsed": false
   },
   "outputs": [],
   "source": [
    "delete = np.where(in_check == True)"
   ]
  },
  {
   "cell_type": "code",
   "execution_count": 39,
   "metadata": {
    "collapsed": false
   },
   "outputs": [
    {
     "data": {
      "text/plain": [
       "(array([0, 2]),)"
      ]
     },
     "execution_count": 39,
     "metadata": {},
     "output_type": "execute_result"
    }
   ],
   "source": [
    "delete"
   ]
  },
  {
   "cell_type": "code",
   "execution_count": 42,
   "metadata": {
    "collapsed": false
   },
   "outputs": [
    {
     "data": {
      "text/plain": [
       "0"
      ]
     },
     "execution_count": 42,
     "metadata": {},
     "output_type": "execute_result"
    }
   ],
   "source": [
    "delete[0][0]"
   ]
  },
  {
   "cell_type": "code",
   "execution_count": 29,
   "metadata": {
    "collapsed": false
   },
   "outputs": [
    {
     "data": {
      "text/plain": [
       "array([ True, False])"
      ]
     },
     "execution_count": 29,
     "metadata": {},
     "output_type": "execute_result"
    }
   ],
   "source": [
    "in_check"
   ]
  },
  {
   "cell_type": "code",
   "execution_count": 50,
   "metadata": {
    "collapsed": false
   },
   "outputs": [],
   "source": [
    "import numpy as np\n",
    "AA = np.zeros((2,5))"
   ]
  },
  {
   "cell_type": "code",
   "execution_count": 53,
   "metadata": {
    "collapsed": false
   },
   "outputs": [],
   "source": [
    "AA[:,0] = [2,3]"
   ]
  },
  {
   "cell_type": "code",
   "execution_count": 54,
   "metadata": {
    "collapsed": false
   },
   "outputs": [
    {
     "data": {
      "text/plain": [
       "array([[2., 0., 0., 0., 0.],\n",
       "       [3., 0., 0., 0., 0.]])"
      ]
     },
     "execution_count": 54,
     "metadata": {},
     "output_type": "execute_result"
    }
   ],
   "source": [
    "AA"
   ]
  },
  {
   "cell_type": "code",
   "execution_count": null,
   "metadata": {
    "collapsed": true
   },
   "outputs": [],
   "source": []
  }
 ],
 "metadata": {
  "anaconda-cloud": {},
  "kernelspec": {
   "display_name": "Python [Root]",
   "language": "python",
   "name": "Python [Root]"
  },
  "language_info": {
   "codemirror_mode": {
    "name": "ipython",
    "version": 3
   },
   "file_extension": ".py",
   "mimetype": "text/x-python",
   "name": "python",
   "nbconvert_exporter": "python",
   "pygments_lexer": "ipython3",
   "version": "3.7.6"
  }
 },
 "nbformat": 4,
 "nbformat_minor": 0
}
