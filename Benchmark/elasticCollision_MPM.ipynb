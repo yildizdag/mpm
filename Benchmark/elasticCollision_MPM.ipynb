{
 "cells": [
  {
   "cell_type": "markdown",
   "metadata": {},
   "source": [
    "# Benchmark: Elastic Collision with Material Point Method"
   ]
  },
  {
   "cell_type": "markdown",
   "metadata": {},
   "source": [
    "## Particle Generation:"
   ]
  },
  {
   "cell_type": "code",
   "execution_count": 40,
   "metadata": {
    "collapsed": false
   },
   "outputs": [],
   "source": [
    "import numpy as np\n",
    "from scipy.spatial import Delaunay\n",
    "n = 60\n",
    "phi = (2*np.pi/n)*np.linspace(0,n,n+1)\n",
    "pv1 = np.transpose(np.array([0.2*np.cos(phi), 0.2*np.sin(phi)]))"
   ]
  },
  {
   "cell_type": "code",
   "execution_count": 62,
   "metadata": {
    "collapsed": false
   },
   "outputs": [],
   "source": [
    "#####################################\n",
    "# FEM Mesh by Delaunayn Triangulation\n",
    "def pmesh(pv,hmax,nref):\n",
    "    edge = len(pv)-1\n",
    "    for i in range(0,edge):\n",
    "        d = np.sqrt((pv[i+1,0]-pv[i,0])**2+(pv[i+1,1]-pv[i,1])**2)\n",
    "        if hmax<d:\n",
    "            n = np.ceil(d/hmax)\n",
    "            nx = np.linspace(pv[i,0],pv[i+1,0],n+1)\n",
    "            ny = np.linspace(pv[i,1],pv[i+1,1],n+1)\n",
    "            for j in range(0,len(nx[1:-1])):\n",
    "                pv = np.append(pv,[[nx[j+1],ny[j+1]]],axis=0)\n",
    "    poly = pv[0:edge+1,:]\n",
    "    pv = np.unique(pv,axis=0)\n",
    "    a = hmax**2\n",
    "    p = 0\n",
    "    while (hmax**2/2.0)<a:\n",
    "        tri = Delaunay(pv)\n",
    "        conn = tri.simplices\n",
    "        print(conn)\n",
    "        A = np.zeros(len(conn))\n",
    "        for i in range(0,len(conn)):\n",
    "            A[i] = np.abs(0.5*(pv[conn[i,0],0]*(pv[conn[i,1],1]-pv[conn[i,2],1])+pv[conn[i,1],0]*(pv[conn[i,2],1]-pv[conn[i,0],1])+pv[conn[i,2],0]*(pv[conn[i,0],1]-pv[conn[i,1],1])))\n",
    "        C = np.zeros((len(conn),2))\n",
    "        D = np.zeros((len(conn),2))\n",
    "        for j in range(0,len(conn)):\n",
    "            K=np.array([[2*(pv[conn[j,0],0]-pv[conn[j,1],0]), 2*(pv[conn[j,0],1]-pv[conn[j,1],1])] , [2*(pv[conn[j,1],0]-pv[conn[j,2],0]), 2*(pv[conn[j,1],1]-pv[conn[j,2],1])]])\n",
    "            F=np.array([((pv[conn[j,0],0])**2-(pv[conn[j,1],0])**2)+((pv[conn[j,0],1])**2-(pv[conn[j,1],1])**2) , ((pv[conn[j,1],0])**2-(pv[conn[j,2],0])**2)+((pv[conn[j,1],1])**2-(pv[conn[j,2],1])**2)])\n",
    "            c = np.linalg.inv(K).dot(F)\n",
    "            C[j,:] = [c[0], c[1]]\n",
    "            D[j,:] = [np.mean([(pv[conn[j,0],0]),(pv[conn[j,1],0]),(pv[conn[j,2],0])]) , np.mean([(pv[conn[j,0],1]),(pv[conn[j,1],1]),(pv[conn[j,2],1])])]\n",
    "        pp = path.Path(poly)\n",
    "        in_check = pp.contains_points(D)\n",
    "        delete = np.where(in_check == False)\n",
    "        A = np.delete(A,delete)\n",
    "        C = np.delete(C,delete,axis=0)\n",
    "        conn = np.delete(conn,delete,axis=0)\n",
    "        if max(A)<(hmax**2/2):\n",
    "            break\n",
    "        else:\n",
    "            ind = np.argmax(A)\n",
    "            pv = np.append(pv,[[C[ind,0],C[ind,1]]],axis=0)\n",
    "            pv = np.unique(pv,axis=0)\n",
    "        p = p+1\n",
    "    \n",
    "    return pv, conn\n",
    "###################################\n",
    "\n",
    "###################################\n",
    "# Regular Mesh\n",
    "def regular2Dmesh(L1,h1,L2,h2):\n",
    "    el1 = int(np.ceil(L1/h1))\n",
    "    el2 = int(np.ceil(L2/h2))\n",
    "    print(el1,el2)\n",
    "    h1 = L1/el1\n",
    "    h2 = L2/el2\n",
    "    size1 = np.linspace(0,L1,el1+1)\n",
    "    size2 = np.linspace(0,L2,el2+1)\n",
    "    nel = el1*el2\n",
    "    X1,Y1 = np.meshgrid(size1,size2)\n",
    "    nodes = np.zeros((len(size1)*len(size2),2))\n",
    "    k = 0\n",
    "    for i in range(0,len(size2)):\n",
    "        for j in range(0,len(size1)):\n",
    "            nodes[k,0] = X1[i,j]\n",
    "            nodes[k,1] = Y1[i,j]\n",
    "            k = k+1\n",
    "    conn = np.zeros(((nel,4)),dtype=int)\n",
    "    for k in range(0,el2):\n",
    "        for i in range(0,el1):\n",
    "            conn[i+el1*k,:] = [i+(el1+1)*k, i+(el1+1)*k+1, i+(el1+1)*(k+1)+1, i+(el1+1)*(k+1)]\n",
    "    return nodes,conn,el1,el2,h1,h2\n",
    "##################################"
   ]
  },
  {
   "cell_type": "code",
   "execution_count": 63,
   "metadata": {
    "collapsed": false
   },
   "outputs": [
    {
     "name": "stdout",
     "output_type": "stream",
     "text": [
      "20 20\n"
     ]
    }
   ],
   "source": [
    "set1 = (1/3.0)*np.array([p[t[:,0],0]+p[t[:,1],0]+p[t[:,2],0] , p[t[:,0],1]+p[t[:,1],1]+p[t[:,2],1]])\n",
    "\n",
    "L1 = 1.0\n",
    "L2 = 1.0\n",
    "h1 = 0.05\n",
    "h2 = 0.05\n",
    "nodes, conn, el1, el2, h1, h2 = regular2Dmesh(L1,h1,L2,h2)"
   ]
  },
  {
   "cell_type": "code",
   "execution_count": 64,
   "metadata": {
    "collapsed": false
   },
   "outputs": [
    {
     "data": {
      "text/plain": [
       "array([[  0,   1,  22,  21],\n",
       "       [  1,   2,  23,  22],\n",
       "       [  2,   3,  24,  23],\n",
       "       ...,\n",
       "       [416, 417, 438, 437],\n",
       "       [417, 418, 439, 438],\n",
       "       [418, 419, 440, 439]])"
      ]
     },
     "execution_count": 64,
     "metadata": {},
     "output_type": "execute_result"
    }
   ],
   "source": [
    "conn"
   ]
  },
  {
   "cell_type": "code",
   "execution_count": 65,
   "metadata": {
    "collapsed": false
   },
   "outputs": [
    {
     "data": {
      "text/plain": [
       "356"
      ]
     },
     "execution_count": 65,
     "metadata": {},
     "output_type": "execute_result"
    }
   ],
   "source": [
    "len(t)"
   ]
  },
  {
   "cell_type": "code",
   "execution_count": 73,
   "metadata": {
    "collapsed": false
   },
   "outputs": [
    {
     "data": {
      "image/png": "[encoded data removed]",
      "text/plain": [
       "<Figure size 576x576 with 1 Axes>"
      ]
     },
     "metadata": {
      "needs_background": "light"
     },
     "output_type": "display_data"
    }
   ],
   "source": [
    "import matplotlib.patches as patches\n",
    "import matplotlib.pyplot as plt\n",
    "fig = plt.figure(figsize=(8,8))\n",
    "ax = fig.gca()\n",
    "ax.axis('equal')\n",
    "for i in range(0,len(conn)):\n",
    "    ax.add_patch(patches.Polygon([[nodes[conn[i,0],0],nodes[conn[i,0],1]],[nodes[conn[i,1],0],nodes[conn[i,1],1]],[nodes[conn[i,2],0],nodes[conn[i,2],1]],[nodes[conn[i,3],0],nodes[conn[i,3],1]]],facecolor=[.8,1,.8],edgecolor='k'))"
   ]
  },
  {
   "cell_type": "code",
   "execution_count": null,
   "metadata": {
    "collapsed": true
   },
   "outputs": [],
   "source": []
  }
 ],
 "metadata": {
  "anaconda-cloud": {},
  "kernelspec": {
   "display_name": "Python [Root]",
   "language": "python",
   "name": "Python [Root]"
  },
  "language_info": {
   "codemirror_mode": {
    "name": "ipython",
    "version": 3
   },
   "file_extension": ".py",
   "mimetype": "text/x-python",
   "name": "python",
   "nbconvert_exporter": "python",
   "pygments_lexer": "ipython3",
   "version": "3.7.6"
  }
 },
 "nbformat": 4,
 "nbformat_minor": 0
}
