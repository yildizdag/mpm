{
 "cells": [
  {
   "cell_type": "markdown",
   "metadata": {},
   "source": [
    "# Benchmark: Elastic Collision with Material Point Method"
   ]
  },
  {
   "cell_type": "markdown",
   "metadata": {},
   "source": [
    "## Particle and Background Mesh Generation:"
   ]
  },
  {
   "cell_type": "code",
   "execution_count": 1,
   "metadata": {
    "collapsed": false
   },
   "outputs": [],
   "source": [
    "import numpy as np\n",
    "from scipy.spatial import Delaunay\n",
    "from matplotlib import path\n",
    "import matplotlib.patches as patches\n",
    "import matplotlib.pyplot as plt"
   ]
  },
  {
   "cell_type": "code",
   "execution_count": 2,
   "metadata": {
    "collapsed": false
   },
   "outputs": [],
   "source": [
    "#####################################\n",
    "# FEM Mesh by Delaunayn Triangulation\n",
    "def pmesh(pv,hmax,nref):\n",
    "    edge = len(pv)-1\n",
    "    for i in range(0,edge):\n",
    "        d = np.sqrt((pv[i+1,0]-pv[i,0])**2+(pv[i+1,1]-pv[i,1])**2)\n",
    "        if hmax<d:\n",
    "            n = np.ceil(d/hmax)\n",
    "            nx = np.linspace(pv[i,0],pv[i+1,0],n+1)\n",
    "            ny = np.linspace(pv[i,1],pv[i+1,1],n+1)\n",
    "            for j in range(0,len(nx[1:-1])):\n",
    "                pv = np.append(pv,[[nx[j+1],ny[j+1]]],axis=0)\n",
    "    poly = pv[0:edge+1,:]\n",
    "    pv = np.unique(pv,axis=0)\n",
    "    a = hmax**2\n",
    "    p = 0\n",
    "    while (hmax**2/2.0)<a:\n",
    "        tri = Delaunay(pv)\n",
    "        conn = tri.simplices\n",
    "        A = np.zeros(len(conn))\n",
    "        for i in range(0,len(conn)):\n",
    "            A[i] = np.abs(0.5*(pv[conn[i,0],0]*(pv[conn[i,1],1]-pv[conn[i,2],1])+pv[conn[i,1],0]*(pv[conn[i,2],1]-pv[conn[i,0],1])+pv[conn[i,2],0]*(pv[conn[i,0],1]-pv[conn[i,1],1])))\n",
    "        C = np.zeros((len(conn),2))\n",
    "        D = np.zeros((len(conn),2))\n",
    "        for j in range(0,len(conn)):\n",
    "            K=np.array([[2*(pv[conn[j,0],0]-pv[conn[j,1],0]), 2*(pv[conn[j,0],1]-pv[conn[j,1],1])] , [2*(pv[conn[j,1],0]-pv[conn[j,2],0]), 2*(pv[conn[j,1],1]-pv[conn[j,2],1])]])\n",
    "            F=np.array([((pv[conn[j,0],0])**2-(pv[conn[j,1],0])**2)+((pv[conn[j,0],1])**2-(pv[conn[j,1],1])**2) , ((pv[conn[j,1],0])**2-(pv[conn[j,2],0])**2)+((pv[conn[j,1],1])**2-(pv[conn[j,2],1])**2)])\n",
    "            c = np.linalg.inv(K).dot(F)\n",
    "            C[j,:] = [c[0], c[1]]\n",
    "            D[j,:] = [np.mean([(pv[conn[j,0],0]),(pv[conn[j,1],0]),(pv[conn[j,2],0])]) , np.mean([(pv[conn[j,0],1]),(pv[conn[j,1],1]),(pv[conn[j,2],1])])]\n",
    "        pp = path.Path(poly)\n",
    "        in_check = pp.contains_points(D)\n",
    "        delete = np.where(in_check == False)\n",
    "        A = np.delete(A,delete)\n",
    "        C = np.delete(C,delete,axis=0)\n",
    "        conn = np.delete(conn,delete,axis=0)\n",
    "        if max(A)<(hmax**2/2):\n",
    "            break\n",
    "        else:\n",
    "            ind = np.argmax(A)\n",
    "            pv = np.append(pv,[[C[ind,0],C[ind,1]]],axis=0)\n",
    "            pv = np.unique(pv,axis=0)\n",
    "        p = p+1\n",
    "    \n",
    "    return pv, conn\n",
    "###################################\n",
    "\n",
    "###################################\n",
    "# Regular Mesh\n",
    "def regular2Dmesh(L1,h1,L2,h2):\n",
    "    el1 = int(np.ceil(L1/h1))\n",
    "    el2 = int(np.ceil(L2/h2))\n",
    "    h1 = L1/el1\n",
    "    h2 = L2/el2\n",
    "    size1 = np.linspace(0,L1,el1+1)\n",
    "    size2 = np.linspace(0,L2,el2+1)\n",
    "    nel = el1*el2\n",
    "    X1,Y1 = np.meshgrid(size1,size2)\n",
    "    nodes = np.zeros((len(size1)*len(size2),2))\n",
    "    k = 0\n",
    "    for i in range(0,len(size2)):\n",
    "        for j in range(0,len(size1)):\n",
    "            nodes[k,0] = X1[i,j]\n",
    "            nodes[k,1] = Y1[i,j]\n",
    "            k = k+1\n",
    "    conn = np.zeros(((nel,4)),dtype=int)\n",
    "    for k in range(0,el2):\n",
    "        for i in range(0,el1):\n",
    "            conn[i+el1*k,:] = [i+(el1+1)*k, i+(el1+1)*k+1, i+(el1+1)*(k+1)+1, i+(el1+1)*(k+1)]\n",
    "    return nodes,conn,el1,el2,h1,h2\n",
    "##################################"
   ]
  },
  {
   "cell_type": "code",
   "execution_count": 3,
   "metadata": {
    "collapsed": false
   },
   "outputs": [],
   "source": [
    "n = 60\n",
    "phi = (2*np.pi/n)*np.linspace(0,n,n+1)\n",
    "pv1 = np.transpose(np.array([0.2*np.cos(phi), 0.2*np.sin(phi)]))\n",
    "p,t = pmesh(pv1,0.032,0)\n",
    "set1 = (1/3.0)*np.transpose(np.array([p[t[:,0],0]+p[t[:,1],0]+p[t[:,2],0] , p[t[:,0],1]+p[t[:,1],1]+p[t[:,2],1]]))\n",
    "set1 = set1 + 0.2*np.ones((len(t),2))\n",
    "set2 = set1 + 0.6*np.ones((len(t),2))\n",
    "p_set = np.append(set1,set2,axis=0)\n",
    "L1 = 1.0\n",
    "L2 = 1.0\n",
    "h1 = 0.05\n",
    "h2 = 0.05\n",
    "nodes, conn, el1, el2, h1, h2 = regular2Dmesh(L1,h1,L2,h2)"
   ]
  },
  {
   "cell_type": "markdown",
   "metadata": {},
   "source": [
    "# Initial Configuration:"
   ]
  },
  {
   "cell_type": "code",
   "execution_count": 4,
   "metadata": {
    "collapsed": false
   },
   "outputs": [
    {
     "data": {
      "text/plain": [
       "<matplotlib.collections.PathCollection at 0x7fc68b2de4d0>"
      ]
     },
     "execution_count": 4,
     "metadata": {},
     "output_type": "execute_result"
    },
    {
     "data": {
      "image/png": "[encoded data removed]",
      "text/plain": [
       "<Figure size 576x576 with 1 Axes>"
      ]
     },
     "metadata": {
      "needs_background": "light"
     },
     "output_type": "display_data"
    }
   ],
   "source": [
    "plt.figure(figsize=(8,8))\n",
    "for i in range(0,len(conn)):\n",
    "    plt.gca().add_patch(patches.Polygon([[nodes[conn[i,0],0],nodes[conn[i,0],1]],[nodes[conn[i,1],0],nodes[conn[i,1],1]],[nodes[conn[i,2],0],nodes[conn[i,2],1]],[nodes[conn[i,3],0],nodes[conn[i,3],1]]],facecolor='w',edgecolor='k',fill=False))\n",
    "plt.scatter(p_set[:,0],p_set[:,1])"
   ]
  },
  {
   "cell_type": "markdown",
   "metadata": {},
   "source": [
    "# MPM SIMULATION"
   ]
  },
  {
   "cell_type": "code",
   "execution_count": 11,
   "metadata": {
    "collapsed": false
   },
   "outputs": [],
   "source": [
    "E = 1000\n",
    "nu = 0.3\n",
    "C=(E/((1+nu)*(1-2*nu)))*np.array([[1-nu,nu,0], [nu,1-nu,0], [0,0,(1-2*nu)/2]])\n",
    "rho = 1000\n",
    "v = 0.1\n",
    "TOL = 1E-12\n",
    "Vp1 = np.zeros(len(set1))\n",
    "Mp1 = np.zeros(len(set1))\n",
    "vp1 = np.zeros((len(set1),2))\n",
    "Sp1 = np.zeros((len(set1),3))\n",
    "Ep1 = np.zeros((len(set1),3))\n",
    "Fp1 = np.zeros((len(set1),4))\n",
    "#############################\n",
    "# Initial State\n",
    "for i in range(0,len(set1)):\n",
    "    aMatrix = np.array([[p[t[i,0],0],p[t[i,0],1],1.0],[p[t[i,1],0],p[t[i,1],1],1.0],[p[t[i,2],0],p[t[i,2],1],1.0]])\n",
    "    a = np.linalg.det(aMatrix)/2.0\n",
    "    Vp1[i] = a\n",
    "    Mp1[i] = a*rho\n",
    "    vp1[i,:] = [v,v]\n",
    "    Fp1[i,:] = [1.0,0.0,0.0,1.0]\n",
    "#############################\n",
    "# All Particles\n",
    "Vp = np.append(Vp1,Vp1,axis=0)\n",
    "Mp = np.append(Mp1,Mp1,axis=0)\n",
    "vp = np.append(vp1,-1.0*vp1,axis=0)\n",
    "rp = p_set\n",
    "Sp = np.append(Sp1,Sp1,axis=0)\n",
    "Ep = np.append(Ep1,Ep1,axis=0)\n",
    "Fp = np.append(Fp1,Fp1,axis=0)\n",
    "Vp0 = Vp\n",
    "elNp = np.zeros(len(rp))\n",
    "#############################\n",
    "n_mass = np.zeros(len(nodes))\n",
    "n_momentum = np.zeros((len(nodes),2))\n",
    "n_fi = np.zeros((len(nodes),2))\n",
    "#############################\n",
    "# Simulation Parameters:\n",
    "deltaT = 0.005\n",
    "t = 0\n",
    "time = 3.6\n",
    "frame = 100\n",
    "X = np.zeros((len(rp),frame))\n",
    "Y = X\n",
    "X[:,0] = rp[:,0]\n",
    "Y[:,0] = rp[:,1]\n",
    "Tstep = time/frame\n",
    "step = np.floor(Tstep/deltaT)"
   ]
  },
  {
   "cell_type": "code",
   "execution_count": 12,
   "metadata": {
    "collapsed": false
   },
   "outputs": [
    {
     "data": {
      "text/plain": [
       "0.036000000000000004"
      ]
     },
     "execution_count": 12,
     "metadata": {},
     "output_type": "execute_result"
    }
   ],
   "source": [
    "# START\n",
    "count = 0\n",
    "istep = 1\n",
    "while (t<=time):\n",
    "    if mod(count,step) == 0:\n",
    "        X[:,istep] = rp[:,0]\n",
    "        Y[:,istep] = rp[:,1]\n",
    "        istep = istep + 1\n",
    "    count = count + 1\n",
    "    # From Particles to Nodese\n",
    "    xp = rp[i,0]\n",
    "    yp = rp[i,1]\n",
    "    elp1 = np.ceil(xp/h1)\n",
    "    elp2 = np.floor(yp/h2)\n",
    "    el = elp2*el1+elp1\n",
    "    elNp[i,0] = el\n",
    "    el_nodes = nodes[conn[el,:],:]\n",
    "    xi = (2.0*xp-(el_nodes[0,0]+el_nodes[1,0]))/h1\n",
    "    eta = (2.0*yp-(el_nodes[1,1]+el_nodes[2,1]))/h2\n",
    "    N, dN = linear2Dshapefun(xi,eta)\n",
    "    Jmatrix = np.array([[dN[0,:]*el_nodes[:,0],dN[0,:]*el_nodes[:,1]],[dN[1,:]*el_nodes[:,0],dN[1,:]*el_nodes[:,1]]])\n",
    "    J = np.linalg.det(Jmatrix)\n",
    "    dNxy = np.linalg.inv(Jmatrix).dot(dN)"
   ]
  },
  {
   "cell_type": "code",
   "execution_count": null,
   "metadata": {
    "collapsed": true
   },
   "outputs": [],
   "source": []
  }
 ],
 "metadata": {
  "anaconda-cloud": {},
  "kernelspec": {
   "display_name": "Python [Root]",
   "language": "python",
   "name": "Python [Root]"
  },
  "language_info": {
   "codemirror_mode": {
    "name": "ipython",
    "version": 3
   },
   "file_extension": ".py",
   "mimetype": "text/x-python",
   "name": "python",
   "nbconvert_exporter": "python",
   "pygments_lexer": "ipython3",
   "version": "3.7.6"
  }
 },
 "nbformat": 4,
 "nbformat_minor": 0
}
